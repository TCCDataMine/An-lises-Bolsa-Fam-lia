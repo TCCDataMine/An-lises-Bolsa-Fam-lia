{
 "cells": [
  {
   "cell_type": "markdown",
   "metadata": {},
   "source": [
    "# Imports"
   ]
  },
  {
   "cell_type": "code",
   "execution_count": 1,
   "metadata": {},
   "outputs": [],
   "source": [
    "import pandas as pd \n",
    "import  matplotlib.pyplot  as  plt\n",
    "import seaborn as sns\n",
    "import numpy as np"
   ]
  },
  {
   "cell_type": "markdown",
   "metadata": {},
   "source": [
    "# Criando DataFrames de cada Ano"
   ]
  },
  {
   "cell_type": "code",
   "execution_count": 2,
   "metadata": {},
   "outputs": [],
   "source": [
    "# Lendo os arquivos CSV de cada ano e atribuindo a variaveis \n",
    "df_2019 =  pd.read_csv(\"beneficios_2019.csv\")\n",
    "df_2018 =  pd.read_csv(\"beneficios_2018.csv\") \n",
    "df_2017 =  pd.read_csv(\"beneficios_2017.csv\") \n",
    "df_2016 =  pd.read_csv(\"beneficios_2016.csv\")\n",
    "df_2015 =  pd.read_csv(\"beneficios_2015.csv\")\n",
    "df_2014 =  pd.read_csv(\"beneficios_2014.csv\")"
   ]
  },
  {
   "cell_type": "markdown",
   "metadata": {},
   "source": [
    "# Informações de Cada DataFrame"
   ]
  },
  {
   "cell_type": "code",
   "execution_count": 3,
   "metadata": {},
   "outputs": [
    {
     "name": "stdout",
     "output_type": "stream",
     "text": [
      "<class 'pandas.core.frame.DataFrame'>\n",
      "RangeIndex: 66840 entries, 0 to 66839\n",
      "Data columns (total 9 columns):\n",
      " #   Column       Non-Null Count  Dtype  \n",
      "---  ------       --------------  -----  \n",
      " 0   ibge         66840 non-null  int64  \n",
      " 1   siglauf      66840 non-null  object \n",
      " 2   anomes       66840 non-null  int64  \n",
      " 3   qtd_ben_bas  66839 non-null  float64\n",
      " 4   qtd_ben_var  66840 non-null  int64  \n",
      " 5   qtd_ben_bvj  66805 non-null  float64\n",
      " 6   qtd_ben_bvn  66526 non-null  float64\n",
      " 7   qtd_ben_bvg  66602 non-null  float64\n",
      " 8   qtd_ben_bsp  66819 non-null  float64\n",
      "dtypes: float64(5), int64(3), object(1)\n",
      "memory usage: 4.6+ MB\n"
     ]
    }
   ],
   "source": [
    "df_2019.info()"
   ]
  },
  {
   "cell_type": "code",
   "execution_count": 4,
   "metadata": {},
   "outputs": [
    {
     "name": "stdout",
     "output_type": "stream",
     "text": [
      "<class 'pandas.core.frame.DataFrame'>\n",
      "RangeIndex: 66840 entries, 0 to 66839\n",
      "Data columns (total 9 columns):\n",
      " #   Column       Non-Null Count  Dtype  \n",
      "---  ------       --------------  -----  \n",
      " 0   ibge         66840 non-null  int64  \n",
      " 1   siglauf      66840 non-null  object \n",
      " 2   anomes       66840 non-null  int64  \n",
      " 3   qtd_ben_bas  66840 non-null  int64  \n",
      " 4   qtd_ben_var  66840 non-null  int64  \n",
      " 5   qtd_ben_bvj  66828 non-null  float64\n",
      " 6   qtd_ben_bvn  66729 non-null  float64\n",
      " 7   qtd_ben_bvg  66736 non-null  float64\n",
      " 8   qtd_ben_bsp  66830 non-null  float64\n",
      "dtypes: float64(4), int64(4), object(1)\n",
      "memory usage: 4.6+ MB\n"
     ]
    }
   ],
   "source": [
    "df_2018.info()"
   ]
  },
  {
   "cell_type": "code",
   "execution_count": 5,
   "metadata": {},
   "outputs": [
    {
     "name": "stdout",
     "output_type": "stream",
     "text": [
      "<class 'pandas.core.frame.DataFrame'>\n",
      "RangeIndex: 19628 entries, 0 to 19627\n",
      "Data columns (total 9 columns):\n",
      " #   Column       Non-Null Count  Dtype  \n",
      "---  ------       --------------  -----  \n",
      " 0   ibge         19628 non-null  int64  \n",
      " 1   siglauf      19628 non-null  object \n",
      " 2   anomes       19628 non-null  int64  \n",
      " 3   qtd_ben_bas  19628 non-null  int64  \n",
      " 4   qtd_ben_var  19628 non-null  int64  \n",
      " 5   qtd_ben_bvj  19628 non-null  int64  \n",
      " 6   qtd_ben_bvn  19628 non-null  int64  \n",
      " 7   qtd_ben_bvg  19628 non-null  int64  \n",
      " 8   qtd_ben_bsp  19627 non-null  float64\n",
      "dtypes: float64(1), int64(7), object(1)\n",
      "memory usage: 1.3+ MB\n"
     ]
    }
   ],
   "source": [
    "df_2017.info()"
   ]
  },
  {
   "cell_type": "code",
   "execution_count": 6,
   "metadata": {},
   "outputs": [
    {
     "name": "stdout",
     "output_type": "stream",
     "text": [
      "<class 'pandas.core.frame.DataFrame'>\n",
      "RangeIndex: 66840 entries, 0 to 66839\n",
      "Data columns (total 9 columns):\n",
      " #   Column       Non-Null Count  Dtype  \n",
      "---  ------       --------------  -----  \n",
      " 0   ibge         66840 non-null  int64  \n",
      " 1   siglauf      66840 non-null  object \n",
      " 2   anomes       66840 non-null  int64  \n",
      " 3   qtd_ben_bas  66840 non-null  int64  \n",
      " 4   qtd_ben_var  66840 non-null  int64  \n",
      " 5   qtd_ben_bvj  66835 non-null  float64\n",
      " 6   qtd_ben_bvn  66707 non-null  float64\n",
      " 7   qtd_ben_bvg  66697 non-null  float64\n",
      " 8   qtd_ben_bsp  66825 non-null  float64\n",
      "dtypes: float64(4), int64(4), object(1)\n",
      "memory usage: 4.6+ MB\n"
     ]
    }
   ],
   "source": [
    "df_2016.info()"
   ]
  },
  {
   "cell_type": "code",
   "execution_count": 7,
   "metadata": {},
   "outputs": [
    {
     "name": "stdout",
     "output_type": "stream",
     "text": [
      "<class 'pandas.core.frame.DataFrame'>\n",
      "RangeIndex: 66840 entries, 0 to 66839\n",
      "Data columns (total 9 columns):\n",
      " #   Column       Non-Null Count  Dtype \n",
      "---  ------       --------------  ----- \n",
      " 0   ibge         66840 non-null  int64 \n",
      " 1   siglauf      66840 non-null  object\n",
      " 2   anomes       66840 non-null  int64 \n",
      " 3   qtd_ben_bas  66840 non-null  int64 \n",
      " 4   qtd_ben_var  66840 non-null  int64 \n",
      " 5   qtd_ben_bvj  66840 non-null  int64 \n",
      " 6   qtd_ben_bvn  66840 non-null  int64 \n",
      " 7   qtd_ben_bvg  66840 non-null  int64 \n",
      " 8   qtd_ben_bsp  66840 non-null  int64 \n",
      "dtypes: int64(8), object(1)\n",
      "memory usage: 4.6+ MB\n"
     ]
    }
   ],
   "source": [
    "df_2015.info()"
   ]
  },
  {
   "cell_type": "code",
   "execution_count": 8,
   "metadata": {},
   "outputs": [
    {
     "name": "stdout",
     "output_type": "stream",
     "text": [
      "<class 'pandas.core.frame.DataFrame'>\n",
      "RangeIndex: 66840 entries, 0 to 66839\n",
      "Data columns (total 9 columns):\n",
      " #   Column       Non-Null Count  Dtype  \n",
      "---  ------       --------------  -----  \n",
      " 0   ibge         66840 non-null  int64  \n",
      " 1   siglauf      66840 non-null  object \n",
      " 2   anomes       66840 non-null  int64  \n",
      " 3   qtd_ben_bas  66837 non-null  float64\n",
      " 4   qtd_ben_var  66837 non-null  float64\n",
      " 5   qtd_ben_bvj  66837 non-null  float64\n",
      " 6   qtd_ben_bvn  66837 non-null  float64\n",
      " 7   qtd_ben_bvg  66837 non-null  float64\n",
      " 8   qtd_ben_bsp  66837 non-null  float64\n",
      "dtypes: float64(6), int64(2), object(1)\n",
      "memory usage: 4.6+ MB\n"
     ]
    }
   ],
   "source": [
    "df_2014.info()"
   ]
  },
  {
   "cell_type": "markdown",
   "metadata": {},
   "source": [
    "# Observando Dados e Estruturas - 2019"
   ]
  },
  {
   "cell_type": "code",
   "execution_count": 9,
   "metadata": {},
   "outputs": [
    {
     "data": {
      "text/html": [
       "<div>\n",
       "<style scoped>\n",
       "    .dataframe tbody tr th:only-of-type {\n",
       "        vertical-align: middle;\n",
       "    }\n",
       "\n",
       "    .dataframe tbody tr th {\n",
       "        vertical-align: top;\n",
       "    }\n",
       "\n",
       "    .dataframe thead th {\n",
       "        text-align: right;\n",
       "    }\n",
       "</style>\n",
       "<table border=\"1\" class=\"dataframe\">\n",
       "  <thead>\n",
       "    <tr style=\"text-align: right;\">\n",
       "      <th></th>\n",
       "      <th>ibge</th>\n",
       "      <th>siglauf</th>\n",
       "      <th>anomes</th>\n",
       "      <th>qtd_ben_bas</th>\n",
       "      <th>qtd_ben_var</th>\n",
       "      <th>qtd_ben_bvj</th>\n",
       "      <th>qtd_ben_bvn</th>\n",
       "      <th>qtd_ben_bvg</th>\n",
       "      <th>qtd_ben_bsp</th>\n",
       "    </tr>\n",
       "  </thead>\n",
       "  <tbody>\n",
       "    <tr>\n",
       "      <th>66758</th>\n",
       "      <td>522185</td>\n",
       "      <td>GO</td>\n",
       "      <td>201903</td>\n",
       "      <td>3639.0</td>\n",
       "      <td>11363</td>\n",
       "      <td>1245.0</td>\n",
       "      <td>181.0</td>\n",
       "      <td>127.0</td>\n",
       "      <td>160.0</td>\n",
       "    </tr>\n",
       "    <tr>\n",
       "      <th>41265</th>\n",
       "      <td>351518</td>\n",
       "      <td>SP</td>\n",
       "      <td>201910</td>\n",
       "      <td>647.0</td>\n",
       "      <td>1023</td>\n",
       "      <td>116.0</td>\n",
       "      <td>15.0</td>\n",
       "      <td>28.0</td>\n",
       "      <td>455.0</td>\n",
       "    </tr>\n",
       "    <tr>\n",
       "      <th>37906</th>\n",
       "      <td>320450</td>\n",
       "      <td>ES</td>\n",
       "      <td>201911</td>\n",
       "      <td>513.0</td>\n",
       "      <td>828</td>\n",
       "      <td>149.0</td>\n",
       "      <td>6.0</td>\n",
       "      <td>12.0</td>\n",
       "      <td>273.0</td>\n",
       "    </tr>\n",
       "    <tr>\n",
       "      <th>49795</th>\n",
       "      <td>411721</td>\n",
       "      <td>PR</td>\n",
       "      <td>201908</td>\n",
       "      <td>163.0</td>\n",
       "      <td>335</td>\n",
       "      <td>31.0</td>\n",
       "      <td>12.0</td>\n",
       "      <td>12.0</td>\n",
       "      <td>33.0</td>\n",
       "    </tr>\n",
       "    <tr>\n",
       "      <th>33833</th>\n",
       "      <td>314930</td>\n",
       "      <td>MG</td>\n",
       "      <td>201906</td>\n",
       "      <td>1327.0</td>\n",
       "      <td>2621</td>\n",
       "      <td>346.0</td>\n",
       "      <td>43.0</td>\n",
       "      <td>60.0</td>\n",
       "      <td>590.0</td>\n",
       "    </tr>\n",
       "  </tbody>\n",
       "</table>\n",
       "</div>"
      ],
      "text/plain": [
       "         ibge siglauf  anomes  qtd_ben_bas  qtd_ben_var  qtd_ben_bvj  \\\n",
       "66758  522185      GO  201903       3639.0        11363       1245.0   \n",
       "41265  351518      SP  201910        647.0         1023        116.0   \n",
       "37906  320450      ES  201911        513.0          828        149.0   \n",
       "49795  411721      PR  201908        163.0          335         31.0   \n",
       "33833  314930      MG  201906       1327.0         2621        346.0   \n",
       "\n",
       "       qtd_ben_bvn  qtd_ben_bvg  qtd_ben_bsp  \n",
       "66758        181.0        127.0        160.0  \n",
       "41265         15.0         28.0        455.0  \n",
       "37906          6.0         12.0        273.0  \n",
       "49795         12.0         12.0         33.0  \n",
       "33833         43.0         60.0        590.0  "
      ]
     },
     "execution_count": 9,
     "metadata": {},
     "output_type": "execute_result"
    }
   ],
   "source": [
    "df_2019.sample(5)"
   ]
  },
  {
   "cell_type": "markdown",
   "metadata": {},
   "source": [
    "# Registros Com Campos Vazios - 2019\n",
    " QTD_BEN_BAS Ano de 2019"
   ]
  },
  {
   "cell_type": "code",
   "execution_count": 10,
   "metadata": {},
   "outputs": [
    {
     "data": {
      "text/html": [
       "<div>\n",
       "<style scoped>\n",
       "    .dataframe tbody tr th:only-of-type {\n",
       "        vertical-align: middle;\n",
       "    }\n",
       "\n",
       "    .dataframe tbody tr th {\n",
       "        vertical-align: top;\n",
       "    }\n",
       "\n",
       "    .dataframe thead th {\n",
       "        text-align: right;\n",
       "    }\n",
       "</style>\n",
       "<table border=\"1\" class=\"dataframe\">\n",
       "  <thead>\n",
       "    <tr style=\"text-align: right;\">\n",
       "      <th></th>\n",
       "      <th>ibge</th>\n",
       "      <th>siglauf</th>\n",
       "      <th>anomes</th>\n",
       "      <th>qtd_ben_bas</th>\n",
       "      <th>qtd_ben_var</th>\n",
       "      <th>qtd_ben_bvj</th>\n",
       "      <th>qtd_ben_bvn</th>\n",
       "      <th>qtd_ben_bvg</th>\n",
       "      <th>qtd_ben_bsp</th>\n",
       "    </tr>\n",
       "  </thead>\n",
       "  <tbody>\n",
       "    <tr>\n",
       "      <th>60275</th>\n",
       "      <td>431975</td>\n",
       "      <td>RS</td>\n",
       "      <td>201912</td>\n",
       "      <td>NaN</td>\n",
       "      <td>2</td>\n",
       "      <td>NaN</td>\n",
       "      <td>NaN</td>\n",
       "      <td>NaN</td>\n",
       "      <td>NaN</td>\n",
       "    </tr>\n",
       "  </tbody>\n",
       "</table>\n",
       "</div>"
      ],
      "text/plain": [
       "         ibge siglauf  anomes  qtd_ben_bas  qtd_ben_var  qtd_ben_bvj  \\\n",
       "60275  431975      RS  201912          NaN            2          NaN   \n",
       "\n",
       "       qtd_ben_bvn  qtd_ben_bvg  qtd_ben_bsp  \n",
       "60275          NaN          NaN          NaN  "
      ]
     },
     "execution_count": 10,
     "metadata": {},
     "output_type": "execute_result"
    }
   ],
   "source": [
    "df_2019[df_2019['qtd_ben_bas'].isnull()] "
   ]
  },
  {
   "cell_type": "markdown",
   "metadata": {},
   "source": [
    "# Quantidade de Registros Com Campos Vazios - 2019\n",
    "QTD_BEN_BVN Ano de 2019"
   ]
  },
  {
   "cell_type": "code",
   "execution_count": 11,
   "metadata": {},
   "outputs": [
    {
     "data": {
      "text/plain": [
       "314"
      ]
     },
     "execution_count": 11,
     "metadata": {},
     "output_type": "execute_result"
    }
   ],
   "source": [
    "len(df_2019[df_2019['qtd_ben_bvn'].isnull()]) "
   ]
  },
  {
   "cell_type": "markdown",
   "metadata": {},
   "source": [
    "# Tratando os Dados"
   ]
  },
  {
   "cell_type": "code",
   "execution_count": 12,
   "metadata": {},
   "outputs": [],
   "source": [
    "########################2019################################\n",
    "df_2019.fillna(0, inplace = True)\n",
    "df_2019['ibge'] = (df_2019['ibge']).apply(str)\n",
    "df_2019['anomes'] = (df_2019['anomes']).apply(str)\n",
    "df_2019['qtd_ben_bas'] = (df_2019['qtd_ben_bas']).apply(int)\n",
    "df_2019['qtd_ben_var'] = (df_2019['qtd_ben_var']).apply(int)\n",
    "df_2019['qtd_ben_bvj'] = (df_2019['qtd_ben_bvj']).apply(int)\n",
    "df_2019['qtd_ben_bvn'] = (df_2019['qtd_ben_bvn']).apply(int)\n",
    "df_2019['qtd_ben_bvg'] = (df_2019['qtd_ben_bvg']).apply(int)\n",
    "df_2019['qtd_ben_bsp'] = (df_2019['qtd_ben_bsp']).apply(int)\n",
    "df_2019['ano']  = '2019'\n",
    "########################2018################################\n",
    "df_2018.fillna(0, inplace = True)\n",
    "df_2018['ibge'] = (df_2018['ibge']).apply(str)\n",
    "df_2018['anomes'] = (df_2018['anomes']).apply(str)\n",
    "df_2018['qtd_ben_bas'] = (df_2018['qtd_ben_bas']).apply(int)\n",
    "df_2018['qtd_ben_var'] = (df_2018['qtd_ben_var']).apply(int)\n",
    "df_2018['qtd_ben_bvj'] = (df_2018['qtd_ben_bvj']).apply(int)\n",
    "df_2018['qtd_ben_bvn'] = (df_2018['qtd_ben_bvn']).apply(int)\n",
    "df_2018['qtd_ben_bvg'] = (df_2018['qtd_ben_bvg']).apply(int)\n",
    "df_2018['qtd_ben_bsp'] = (df_2018['qtd_ben_bsp']).apply(int)\n",
    "df_2018['ano']  = '2018'\n",
    "########################2017################################\n",
    "df_2017.fillna(0, inplace = True)\n",
    "df_2017['ibge'] = (df_2017['ibge']).apply(str)\n",
    "df_2017['anomes'] = (df_2017['anomes']).apply(str)\n",
    "df_2017['qtd_ben_bas'] = (df_2017['qtd_ben_bas']).apply(int)\n",
    "df_2017['qtd_ben_var'] = (df_2017['qtd_ben_var']).apply(int)\n",
    "df_2017['qtd_ben_bvj'] = (df_2017['qtd_ben_bvj']).apply(int)\n",
    "df_2017['qtd_ben_bvn'] = (df_2017['qtd_ben_bvn']).apply(int)\n",
    "df_2017['qtd_ben_bvg'] = (df_2017['qtd_ben_bvg']).apply(int)\n",
    "df_2017['qtd_ben_bsp'] = (df_2017['qtd_ben_bsp']).apply(int)\n",
    "df_2017['ano']  = '2017'\n",
    "########################2016################################ \n",
    "df_2016.fillna(0, inplace = True)\n",
    "df_2016['ibge'] = (df_2016['ibge']).apply(str)\n",
    "df_2016['anomes'] = (df_2016['anomes']).apply(str)\n",
    "df_2016['qtd_ben_bas'] = (df_2016['qtd_ben_bas']).apply(int)\n",
    "df_2016['qtd_ben_var'] = (df_2016['qtd_ben_var']).apply(int)\n",
    "df_2016['qtd_ben_bvj'] = (df_2016['qtd_ben_bvj']).apply(int)\n",
    "df_2016['qtd_ben_bvn'] = (df_2016['qtd_ben_bvn']).apply(int)\n",
    "df_2016['qtd_ben_bvg'] = (df_2016['qtd_ben_bvg']).apply(int)\n",
    "df_2016['qtd_ben_bsp'] = (df_2016['qtd_ben_bsp']).apply(int)\n",
    "df_2016['ano']  = '2016'\n",
    "########################2015################################\n",
    "df_2015.fillna(0, inplace = True)\n",
    "df_2015['ibge'] = (df_2015['ibge']).apply(str)\n",
    "df_2015['anomes'] = (df_2015['anomes']).apply(str)\n",
    "df_2015['qtd_ben_bas'] = (df_2015['qtd_ben_bas']).apply(int)\n",
    "df_2015['qtd_ben_var'] = (df_2015['qtd_ben_var']).apply(int)\n",
    "df_2015['qtd_ben_bvj'] = (df_2015['qtd_ben_bvj']).apply(int)\n",
    "df_2015['qtd_ben_bvn'] = (df_2015['qtd_ben_bvn']).apply(int)\n",
    "df_2015['qtd_ben_bvg'] = (df_2015['qtd_ben_bvg']).apply(int)\n",
    "df_2015['qtd_ben_bsp'] = (df_2015['qtd_ben_bsp']).apply(int)\n",
    "df_2015['ano']  = '2015'\n",
    "########################2014################################\n",
    "df_2014.fillna(0, inplace = True)\n",
    "df_2014['ibge'] = (df_2019['ibge']).apply(str)\n",
    "df_2014['anomes'] = (df_2019['anomes']).apply(str)\n",
    "df_2014['qtd_ben_bas'] = (df_2014['qtd_ben_bas']).apply(int)\n",
    "df_2014['qtd_ben_var'] = (df_2014['qtd_ben_var']).apply(int)\n",
    "df_2014['qtd_ben_bvj'] = (df_2014['qtd_ben_bvj']).apply(int)\n",
    "df_2014['qtd_ben_bvn'] = (df_2014['qtd_ben_bvn']).apply(int)\n",
    "df_2014['qtd_ben_bvg'] = (df_2014['qtd_ben_bvg']).apply(int)\n",
    "df_2014['qtd_ben_bsp'] = (df_2014['qtd_ben_bsp']).apply(int)\n",
    "df_2014['ano']  = '2014'"
   ]
  },
  {
   "cell_type": "markdown",
   "metadata": {},
   "source": [
    "# Observando os Primeiros Registros - 2019"
   ]
  },
  {
   "cell_type": "code",
   "execution_count": 13,
   "metadata": {},
   "outputs": [
    {
     "data": {
      "text/html": [
       "<div>\n",
       "<style scoped>\n",
       "    .dataframe tbody tr th:only-of-type {\n",
       "        vertical-align: middle;\n",
       "    }\n",
       "\n",
       "    .dataframe tbody tr th {\n",
       "        vertical-align: top;\n",
       "    }\n",
       "\n",
       "    .dataframe thead th {\n",
       "        text-align: right;\n",
       "    }\n",
       "</style>\n",
       "<table border=\"1\" class=\"dataframe\">\n",
       "  <thead>\n",
       "    <tr style=\"text-align: right;\">\n",
       "      <th></th>\n",
       "      <th>ibge</th>\n",
       "      <th>siglauf</th>\n",
       "      <th>anomes</th>\n",
       "      <th>qtd_ben_bas</th>\n",
       "      <th>qtd_ben_var</th>\n",
       "      <th>qtd_ben_bvj</th>\n",
       "      <th>qtd_ben_bvn</th>\n",
       "      <th>qtd_ben_bvg</th>\n",
       "      <th>qtd_ben_bsp</th>\n",
       "      <th>ano</th>\n",
       "    </tr>\n",
       "  </thead>\n",
       "  <tbody>\n",
       "    <tr>\n",
       "      <th>0</th>\n",
       "      <td>110001</td>\n",
       "      <td>RO</td>\n",
       "      <td>201901</td>\n",
       "      <td>1181</td>\n",
       "      <td>2381</td>\n",
       "      <td>233</td>\n",
       "      <td>41</td>\n",
       "      <td>14</td>\n",
       "      <td>209</td>\n",
       "      <td>2019</td>\n",
       "    </tr>\n",
       "    <tr>\n",
       "      <th>1</th>\n",
       "      <td>110001</td>\n",
       "      <td>RO</td>\n",
       "      <td>201902</td>\n",
       "      <td>1155</td>\n",
       "      <td>2333</td>\n",
       "      <td>244</td>\n",
       "      <td>39</td>\n",
       "      <td>36</td>\n",
       "      <td>209</td>\n",
       "      <td>2019</td>\n",
       "    </tr>\n",
       "    <tr>\n",
       "      <th>2</th>\n",
       "      <td>110001</td>\n",
       "      <td>RO</td>\n",
       "      <td>201903</td>\n",
       "      <td>1157</td>\n",
       "      <td>2350</td>\n",
       "      <td>249</td>\n",
       "      <td>39</td>\n",
       "      <td>49</td>\n",
       "      <td>208</td>\n",
       "      <td>2019</td>\n",
       "    </tr>\n",
       "    <tr>\n",
       "      <th>3</th>\n",
       "      <td>110001</td>\n",
       "      <td>RO</td>\n",
       "      <td>201904</td>\n",
       "      <td>1170</td>\n",
       "      <td>2376</td>\n",
       "      <td>254</td>\n",
       "      <td>42</td>\n",
       "      <td>48</td>\n",
       "      <td>206</td>\n",
       "      <td>2019</td>\n",
       "    </tr>\n",
       "    <tr>\n",
       "      <th>4</th>\n",
       "      <td>110001</td>\n",
       "      <td>RO</td>\n",
       "      <td>201905</td>\n",
       "      <td>1167</td>\n",
       "      <td>2389</td>\n",
       "      <td>264</td>\n",
       "      <td>49</td>\n",
       "      <td>65</td>\n",
       "      <td>221</td>\n",
       "      <td>2019</td>\n",
       "    </tr>\n",
       "    <tr>\n",
       "      <th>5</th>\n",
       "      <td>110001</td>\n",
       "      <td>RO</td>\n",
       "      <td>201906</td>\n",
       "      <td>1151</td>\n",
       "      <td>2352</td>\n",
       "      <td>270</td>\n",
       "      <td>45</td>\n",
       "      <td>64</td>\n",
       "      <td>221</td>\n",
       "      <td>2019</td>\n",
       "    </tr>\n",
       "    <tr>\n",
       "      <th>6</th>\n",
       "      <td>110001</td>\n",
       "      <td>RO</td>\n",
       "      <td>201907</td>\n",
       "      <td>1153</td>\n",
       "      <td>2349</td>\n",
       "      <td>280</td>\n",
       "      <td>44</td>\n",
       "      <td>65</td>\n",
       "      <td>220</td>\n",
       "      <td>2019</td>\n",
       "    </tr>\n",
       "    <tr>\n",
       "      <th>7</th>\n",
       "      <td>110001</td>\n",
       "      <td>RO</td>\n",
       "      <td>201908</td>\n",
       "      <td>1155</td>\n",
       "      <td>2333</td>\n",
       "      <td>287</td>\n",
       "      <td>43</td>\n",
       "      <td>59</td>\n",
       "      <td>215</td>\n",
       "      <td>2019</td>\n",
       "    </tr>\n",
       "    <tr>\n",
       "      <th>8</th>\n",
       "      <td>110001</td>\n",
       "      <td>RO</td>\n",
       "      <td>201909</td>\n",
       "      <td>1141</td>\n",
       "      <td>2318</td>\n",
       "      <td>293</td>\n",
       "      <td>43</td>\n",
       "      <td>69</td>\n",
       "      <td>199</td>\n",
       "      <td>2019</td>\n",
       "    </tr>\n",
       "    <tr>\n",
       "      <th>9</th>\n",
       "      <td>110001</td>\n",
       "      <td>RO</td>\n",
       "      <td>201910</td>\n",
       "      <td>1132</td>\n",
       "      <td>2294</td>\n",
       "      <td>303</td>\n",
       "      <td>36</td>\n",
       "      <td>71</td>\n",
       "      <td>201</td>\n",
       "      <td>2019</td>\n",
       "    </tr>\n",
       "    <tr>\n",
       "      <th>10</th>\n",
       "      <td>110001</td>\n",
       "      <td>RO</td>\n",
       "      <td>201911</td>\n",
       "      <td>1097</td>\n",
       "      <td>2233</td>\n",
       "      <td>294</td>\n",
       "      <td>30</td>\n",
       "      <td>56</td>\n",
       "      <td>198</td>\n",
       "      <td>2019</td>\n",
       "    </tr>\n",
       "    <tr>\n",
       "      <th>11</th>\n",
       "      <td>110001</td>\n",
       "      <td>RO</td>\n",
       "      <td>201912</td>\n",
       "      <td>1094</td>\n",
       "      <td>2255</td>\n",
       "      <td>299</td>\n",
       "      <td>32</td>\n",
       "      <td>49</td>\n",
       "      <td>204</td>\n",
       "      <td>2019</td>\n",
       "    </tr>\n",
       "    <tr>\n",
       "      <th>12</th>\n",
       "      <td>110002</td>\n",
       "      <td>RO</td>\n",
       "      <td>201901</td>\n",
       "      <td>2522</td>\n",
       "      <td>6375</td>\n",
       "      <td>624</td>\n",
       "      <td>146</td>\n",
       "      <td>76</td>\n",
       "      <td>597</td>\n",
       "      <td>2019</td>\n",
       "    </tr>\n",
       "    <tr>\n",
       "      <th>13</th>\n",
       "      <td>110002</td>\n",
       "      <td>RO</td>\n",
       "      <td>201902</td>\n",
       "      <td>2501</td>\n",
       "      <td>6352</td>\n",
       "      <td>650</td>\n",
       "      <td>149</td>\n",
       "      <td>90</td>\n",
       "      <td>585</td>\n",
       "      <td>2019</td>\n",
       "    </tr>\n",
       "    <tr>\n",
       "      <th>14</th>\n",
       "      <td>110002</td>\n",
       "      <td>RO</td>\n",
       "      <td>201903</td>\n",
       "      <td>2536</td>\n",
       "      <td>6442</td>\n",
       "      <td>681</td>\n",
       "      <td>145</td>\n",
       "      <td>140</td>\n",
       "      <td>575</td>\n",
       "      <td>2019</td>\n",
       "    </tr>\n",
       "    <tr>\n",
       "      <th>15</th>\n",
       "      <td>110002</td>\n",
       "      <td>RO</td>\n",
       "      <td>201904</td>\n",
       "      <td>2535</td>\n",
       "      <td>6493</td>\n",
       "      <td>712</td>\n",
       "      <td>142</td>\n",
       "      <td>133</td>\n",
       "      <td>554</td>\n",
       "      <td>2019</td>\n",
       "    </tr>\n",
       "    <tr>\n",
       "      <th>16</th>\n",
       "      <td>110002</td>\n",
       "      <td>RO</td>\n",
       "      <td>201905</td>\n",
       "      <td>2540</td>\n",
       "      <td>6534</td>\n",
       "      <td>729</td>\n",
       "      <td>149</td>\n",
       "      <td>168</td>\n",
       "      <td>537</td>\n",
       "      <td>2019</td>\n",
       "    </tr>\n",
       "    <tr>\n",
       "      <th>17</th>\n",
       "      <td>110002</td>\n",
       "      <td>RO</td>\n",
       "      <td>201906</td>\n",
       "      <td>2462</td>\n",
       "      <td>6285</td>\n",
       "      <td>706</td>\n",
       "      <td>144</td>\n",
       "      <td>161</td>\n",
       "      <td>509</td>\n",
       "      <td>2019</td>\n",
       "    </tr>\n",
       "    <tr>\n",
       "      <th>18</th>\n",
       "      <td>110002</td>\n",
       "      <td>RO</td>\n",
       "      <td>201907</td>\n",
       "      <td>2399</td>\n",
       "      <td>6180</td>\n",
       "      <td>723</td>\n",
       "      <td>140</td>\n",
       "      <td>165</td>\n",
       "      <td>482</td>\n",
       "      <td>2019</td>\n",
       "    </tr>\n",
       "    <tr>\n",
       "      <th>19</th>\n",
       "      <td>110002</td>\n",
       "      <td>RO</td>\n",
       "      <td>201908</td>\n",
       "      <td>2370</td>\n",
       "      <td>6084</td>\n",
       "      <td>742</td>\n",
       "      <td>126</td>\n",
       "      <td>148</td>\n",
       "      <td>465</td>\n",
       "      <td>2019</td>\n",
       "    </tr>\n",
       "    <tr>\n",
       "      <th>20</th>\n",
       "      <td>110002</td>\n",
       "      <td>RO</td>\n",
       "      <td>201909</td>\n",
       "      <td>2282</td>\n",
       "      <td>5785</td>\n",
       "      <td>720</td>\n",
       "      <td>109</td>\n",
       "      <td>176</td>\n",
       "      <td>429</td>\n",
       "      <td>2019</td>\n",
       "    </tr>\n",
       "    <tr>\n",
       "      <th>21</th>\n",
       "      <td>110002</td>\n",
       "      <td>RO</td>\n",
       "      <td>201910</td>\n",
       "      <td>2276</td>\n",
       "      <td>5756</td>\n",
       "      <td>730</td>\n",
       "      <td>98</td>\n",
       "      <td>180</td>\n",
       "      <td>413</td>\n",
       "      <td>2019</td>\n",
       "    </tr>\n",
       "    <tr>\n",
       "      <th>22</th>\n",
       "      <td>110002</td>\n",
       "      <td>RO</td>\n",
       "      <td>201911</td>\n",
       "      <td>2216</td>\n",
       "      <td>5542</td>\n",
       "      <td>694</td>\n",
       "      <td>84</td>\n",
       "      <td>161</td>\n",
       "      <td>383</td>\n",
       "      <td>2019</td>\n",
       "    </tr>\n",
       "    <tr>\n",
       "      <th>23</th>\n",
       "      <td>110002</td>\n",
       "      <td>RO</td>\n",
       "      <td>201912</td>\n",
       "      <td>2213</td>\n",
       "      <td>5539</td>\n",
       "      <td>705</td>\n",
       "      <td>80</td>\n",
       "      <td>126</td>\n",
       "      <td>379</td>\n",
       "      <td>2019</td>\n",
       "    </tr>\n",
       "    <tr>\n",
       "      <th>24</th>\n",
       "      <td>110003</td>\n",
       "      <td>RO</td>\n",
       "      <td>201901</td>\n",
       "      <td>96</td>\n",
       "      <td>288</td>\n",
       "      <td>34</td>\n",
       "      <td>6</td>\n",
       "      <td>3</td>\n",
       "      <td>27</td>\n",
       "      <td>2019</td>\n",
       "    </tr>\n",
       "  </tbody>\n",
       "</table>\n",
       "</div>"
      ],
      "text/plain": [
       "      ibge siglauf  anomes  qtd_ben_bas  qtd_ben_var  qtd_ben_bvj  \\\n",
       "0   110001      RO  201901         1181         2381          233   \n",
       "1   110001      RO  201902         1155         2333          244   \n",
       "2   110001      RO  201903         1157         2350          249   \n",
       "3   110001      RO  201904         1170         2376          254   \n",
       "4   110001      RO  201905         1167         2389          264   \n",
       "5   110001      RO  201906         1151         2352          270   \n",
       "6   110001      RO  201907         1153         2349          280   \n",
       "7   110001      RO  201908         1155         2333          287   \n",
       "8   110001      RO  201909         1141         2318          293   \n",
       "9   110001      RO  201910         1132         2294          303   \n",
       "10  110001      RO  201911         1097         2233          294   \n",
       "11  110001      RO  201912         1094         2255          299   \n",
       "12  110002      RO  201901         2522         6375          624   \n",
       "13  110002      RO  201902         2501         6352          650   \n",
       "14  110002      RO  201903         2536         6442          681   \n",
       "15  110002      RO  201904         2535         6493          712   \n",
       "16  110002      RO  201905         2540         6534          729   \n",
       "17  110002      RO  201906         2462         6285          706   \n",
       "18  110002      RO  201907         2399         6180          723   \n",
       "19  110002      RO  201908         2370         6084          742   \n",
       "20  110002      RO  201909         2282         5785          720   \n",
       "21  110002      RO  201910         2276         5756          730   \n",
       "22  110002      RO  201911         2216         5542          694   \n",
       "23  110002      RO  201912         2213         5539          705   \n",
       "24  110003      RO  201901           96          288           34   \n",
       "\n",
       "    qtd_ben_bvn  qtd_ben_bvg  qtd_ben_bsp   ano  \n",
       "0            41           14          209  2019  \n",
       "1            39           36          209  2019  \n",
       "2            39           49          208  2019  \n",
       "3            42           48          206  2019  \n",
       "4            49           65          221  2019  \n",
       "5            45           64          221  2019  \n",
       "6            44           65          220  2019  \n",
       "7            43           59          215  2019  \n",
       "8            43           69          199  2019  \n",
       "9            36           71          201  2019  \n",
       "10           30           56          198  2019  \n",
       "11           32           49          204  2019  \n",
       "12          146           76          597  2019  \n",
       "13          149           90          585  2019  \n",
       "14          145          140          575  2019  \n",
       "15          142          133          554  2019  \n",
       "16          149          168          537  2019  \n",
       "17          144          161          509  2019  \n",
       "18          140          165          482  2019  \n",
       "19          126          148          465  2019  \n",
       "20          109          176          429  2019  \n",
       "21           98          180          413  2019  \n",
       "22           84          161          383  2019  \n",
       "23           80          126          379  2019  \n",
       "24            6            3           27  2019  "
      ]
     },
     "execution_count": 13,
     "metadata": {},
     "output_type": "execute_result"
    }
   ],
   "source": [
    "#Lendo os Primeiros 25 registros\n",
    "df_2019.head(25)"
   ]
  },
  {
   "cell_type": "markdown",
   "metadata": {},
   "source": [
    "# Observando Variação na Quantidade de Benefícios - 2019\n"
   ]
  },
  {
   "cell_type": "code",
   "execution_count": 14,
   "metadata": {},
   "outputs": [
    {
     "data": {
      "text/html": [
       "<div>\n",
       "<style scoped>\n",
       "    .dataframe tbody tr th:only-of-type {\n",
       "        vertical-align: middle;\n",
       "    }\n",
       "\n",
       "    .dataframe tbody tr th {\n",
       "        vertical-align: top;\n",
       "    }\n",
       "\n",
       "    .dataframe thead th {\n",
       "        text-align: right;\n",
       "    }\n",
       "</style>\n",
       "<table border=\"1\" class=\"dataframe\">\n",
       "  <thead>\n",
       "    <tr style=\"text-align: right;\">\n",
       "      <th></th>\n",
       "      <th>ibge</th>\n",
       "      <th>siglauf</th>\n",
       "      <th>anomes</th>\n",
       "      <th>qtd_ben_bas</th>\n",
       "      <th>qtd_ben_var</th>\n",
       "      <th>qtd_ben_bvj</th>\n",
       "      <th>qtd_ben_bvn</th>\n",
       "      <th>qtd_ben_bvg</th>\n",
       "      <th>qtd_ben_bsp</th>\n",
       "      <th>ano</th>\n",
       "    </tr>\n",
       "  </thead>\n",
       "  <tbody>\n",
       "    <tr>\n",
       "      <th>0</th>\n",
       "      <td>110001</td>\n",
       "      <td>RO</td>\n",
       "      <td>201901</td>\n",
       "      <td>1181</td>\n",
       "      <td>2381</td>\n",
       "      <td>233</td>\n",
       "      <td>41</td>\n",
       "      <td>14</td>\n",
       "      <td>209</td>\n",
       "      <td>2019</td>\n",
       "    </tr>\n",
       "    <tr>\n",
       "      <th>1</th>\n",
       "      <td>110001</td>\n",
       "      <td>RO</td>\n",
       "      <td>201902</td>\n",
       "      <td>1155</td>\n",
       "      <td>2333</td>\n",
       "      <td>244</td>\n",
       "      <td>39</td>\n",
       "      <td>36</td>\n",
       "      <td>209</td>\n",
       "      <td>2019</td>\n",
       "    </tr>\n",
       "    <tr>\n",
       "      <th>2</th>\n",
       "      <td>110001</td>\n",
       "      <td>RO</td>\n",
       "      <td>201903</td>\n",
       "      <td>1157</td>\n",
       "      <td>2350</td>\n",
       "      <td>249</td>\n",
       "      <td>39</td>\n",
       "      <td>49</td>\n",
       "      <td>208</td>\n",
       "      <td>2019</td>\n",
       "    </tr>\n",
       "    <tr>\n",
       "      <th>3</th>\n",
       "      <td>110001</td>\n",
       "      <td>RO</td>\n",
       "      <td>201904</td>\n",
       "      <td>1170</td>\n",
       "      <td>2376</td>\n",
       "      <td>254</td>\n",
       "      <td>42</td>\n",
       "      <td>48</td>\n",
       "      <td>206</td>\n",
       "      <td>2019</td>\n",
       "    </tr>\n",
       "    <tr>\n",
       "      <th>4</th>\n",
       "      <td>110001</td>\n",
       "      <td>RO</td>\n",
       "      <td>201905</td>\n",
       "      <td>1167</td>\n",
       "      <td>2389</td>\n",
       "      <td>264</td>\n",
       "      <td>49</td>\n",
       "      <td>65</td>\n",
       "      <td>221</td>\n",
       "      <td>2019</td>\n",
       "    </tr>\n",
       "    <tr>\n",
       "      <th>5</th>\n",
       "      <td>110001</td>\n",
       "      <td>RO</td>\n",
       "      <td>201906</td>\n",
       "      <td>1151</td>\n",
       "      <td>2352</td>\n",
       "      <td>270</td>\n",
       "      <td>45</td>\n",
       "      <td>64</td>\n",
       "      <td>221</td>\n",
       "      <td>2019</td>\n",
       "    </tr>\n",
       "    <tr>\n",
       "      <th>6</th>\n",
       "      <td>110001</td>\n",
       "      <td>RO</td>\n",
       "      <td>201907</td>\n",
       "      <td>1153</td>\n",
       "      <td>2349</td>\n",
       "      <td>280</td>\n",
       "      <td>44</td>\n",
       "      <td>65</td>\n",
       "      <td>220</td>\n",
       "      <td>2019</td>\n",
       "    </tr>\n",
       "    <tr>\n",
       "      <th>7</th>\n",
       "      <td>110001</td>\n",
       "      <td>RO</td>\n",
       "      <td>201908</td>\n",
       "      <td>1155</td>\n",
       "      <td>2333</td>\n",
       "      <td>287</td>\n",
       "      <td>43</td>\n",
       "      <td>59</td>\n",
       "      <td>215</td>\n",
       "      <td>2019</td>\n",
       "    </tr>\n",
       "    <tr>\n",
       "      <th>8</th>\n",
       "      <td>110001</td>\n",
       "      <td>RO</td>\n",
       "      <td>201909</td>\n",
       "      <td>1141</td>\n",
       "      <td>2318</td>\n",
       "      <td>293</td>\n",
       "      <td>43</td>\n",
       "      <td>69</td>\n",
       "      <td>199</td>\n",
       "      <td>2019</td>\n",
       "    </tr>\n",
       "    <tr>\n",
       "      <th>9</th>\n",
       "      <td>110001</td>\n",
       "      <td>RO</td>\n",
       "      <td>201910</td>\n",
       "      <td>1132</td>\n",
       "      <td>2294</td>\n",
       "      <td>303</td>\n",
       "      <td>36</td>\n",
       "      <td>71</td>\n",
       "      <td>201</td>\n",
       "      <td>2019</td>\n",
       "    </tr>\n",
       "    <tr>\n",
       "      <th>10</th>\n",
       "      <td>110001</td>\n",
       "      <td>RO</td>\n",
       "      <td>201911</td>\n",
       "      <td>1097</td>\n",
       "      <td>2233</td>\n",
       "      <td>294</td>\n",
       "      <td>30</td>\n",
       "      <td>56</td>\n",
       "      <td>198</td>\n",
       "      <td>2019</td>\n",
       "    </tr>\n",
       "    <tr>\n",
       "      <th>11</th>\n",
       "      <td>110001</td>\n",
       "      <td>RO</td>\n",
       "      <td>201912</td>\n",
       "      <td>1094</td>\n",
       "      <td>2255</td>\n",
       "      <td>299</td>\n",
       "      <td>32</td>\n",
       "      <td>49</td>\n",
       "      <td>204</td>\n",
       "      <td>2019</td>\n",
       "    </tr>\n",
       "  </tbody>\n",
       "</table>\n",
       "</div>"
      ],
      "text/plain": [
       "      ibge siglauf  anomes  qtd_ben_bas  qtd_ben_var  qtd_ben_bvj  \\\n",
       "0   110001      RO  201901         1181         2381          233   \n",
       "1   110001      RO  201902         1155         2333          244   \n",
       "2   110001      RO  201903         1157         2350          249   \n",
       "3   110001      RO  201904         1170         2376          254   \n",
       "4   110001      RO  201905         1167         2389          264   \n",
       "5   110001      RO  201906         1151         2352          270   \n",
       "6   110001      RO  201907         1153         2349          280   \n",
       "7   110001      RO  201908         1155         2333          287   \n",
       "8   110001      RO  201909         1141         2318          293   \n",
       "9   110001      RO  201910         1132         2294          303   \n",
       "10  110001      RO  201911         1097         2233          294   \n",
       "11  110001      RO  201912         1094         2255          299   \n",
       "\n",
       "    qtd_ben_bvn  qtd_ben_bvg  qtd_ben_bsp   ano  \n",
       "0            41           14          209  2019  \n",
       "1            39           36          209  2019  \n",
       "2            39           49          208  2019  \n",
       "3            42           48          206  2019  \n",
       "4            49           65          221  2019  \n",
       "5            45           64          221  2019  \n",
       "6            44           65          220  2019  \n",
       "7            43           59          215  2019  \n",
       "8            43           69          199  2019  \n",
       "9            36           71          201  2019  \n",
       "10           30           56          198  2019  \n",
       "11           32           49          204  2019  "
      ]
     },
     "execution_count": 14,
     "metadata": {},
     "output_type": "execute_result"
    }
   ],
   "source": [
    "# Filtrando o município desejado\n",
    "df_2019[df_2019[\"ibge\"] == \"110001\"] "
   ]
  },
  {
   "cell_type": "markdown",
   "metadata": {},
   "source": [
    "# Total de Municípios que Receberam Benefíos em 2019"
   ]
  },
  {
   "cell_type": "code",
   "execution_count": 15,
   "metadata": {},
   "outputs": [
    {
     "name": "stdout",
     "output_type": "stream",
     "text": [
      "5570 Municípios\n"
     ]
    }
   ],
   "source": [
    "#Agrupa por Municípios\n",
    "#conta o a quatidade de registros retornado\n",
    "#Trata o valor retornado como string\n",
    "#Imprime o resultado\n",
    "print(str(len(df_2019.groupby(['ibge']))) + \" Municípios\" )"
   ]
  },
  {
   "cell_type": "markdown",
   "metadata": {},
   "source": [
    "# Quantidade de Municípios por UF - 2019"
   ]
  },
  {
   "cell_type": "code",
   "execution_count": 16,
   "metadata": {},
   "outputs": [
    {
     "data": {
      "text/plain": [
       "MG    853\n",
       "SP    645\n",
       "RS    497\n",
       "BA    417\n",
       "PR    399\n",
       "SC    295\n",
       "GO    246\n",
       "PI    224\n",
       "PB    223\n",
       "MA    217\n",
       "PE    185\n",
       "CE    184\n",
       "RN    167\n",
       "PA    144\n",
       "MT    141\n",
       "TO    139\n",
       "AL    102\n",
       "RJ     92\n",
       "MS     79\n",
       "ES     78\n",
       "SE     75\n",
       "AM     62\n",
       "RO     52\n",
       "AC     22\n",
       "AP     16\n",
       "RR     15\n",
       "DF      1\n",
       "Name: siglauf, dtype: int64"
      ]
     },
     "execution_count": 16,
     "metadata": {},
     "output_type": "execute_result"
    }
   ],
   "source": [
    "#Agrupando os Municípios e atribuindo em uma nova variável\n",
    "df_2019_mun_agrup = df_2019.groupby('ibge').max()\n",
    "#Soma a quantidade de municípios por UF \n",
    "df_2019_mun_agrup['siglauf'].value_counts()"
   ]
  },
  {
   "cell_type": "markdown",
   "metadata": {},
   "source": [
    "# Quantidade de Municípios por UF - 2017\n"
   ]
  },
  {
   "cell_type": "code",
   "execution_count": 17,
   "metadata": {},
   "outputs": [
    {
     "data": {
      "text/plain": [
       "PI    224\n",
       "PB    223\n",
       "MA    217\n",
       "CE    184\n",
       "PE    171\n",
       "RN    167\n",
       "PA    144\n",
       "TO    139\n",
       "AM     62\n",
       "RO     52\n",
       "AC     22\n",
       "AP     16\n",
       "RR     15\n",
       "Name: siglauf, dtype: int64"
      ]
     },
     "execution_count": 17,
     "metadata": {},
     "output_type": "execute_result"
    }
   ],
   "source": [
    "#Agrupando os Municípios e atribuindo em uma nova variável\n",
    "df_2017_mun_agrup = df_2017.groupby('ibge').max()\n",
    "#Soma a quantidade de municípios por UF \n",
    "df_2017_mun_agrup['siglauf'].value_counts()"
   ]
  },
  {
   "cell_type": "markdown",
   "metadata": {},
   "source": [
    "# Total de Benefícios Distribuídos por UF - 2019 "
   ]
  },
  {
   "cell_type": "code",
   "execution_count": 18,
   "metadata": {},
   "outputs": [
    {
     "data": {
      "text/html": [
       "<div>\n",
       "<style scoped>\n",
       "    .dataframe tbody tr th:only-of-type {\n",
       "        vertical-align: middle;\n",
       "    }\n",
       "\n",
       "    .dataframe tbody tr th {\n",
       "        vertical-align: top;\n",
       "    }\n",
       "\n",
       "    .dataframe thead th {\n",
       "        text-align: right;\n",
       "    }\n",
       "</style>\n",
       "<table border=\"1\" class=\"dataframe\">\n",
       "  <thead>\n",
       "    <tr style=\"text-align: right;\">\n",
       "      <th></th>\n",
       "      <th>siglauf</th>\n",
       "      <th>qtd_ben_bas</th>\n",
       "      <th>qtd_ben_var</th>\n",
       "      <th>qtd_ben_bvj</th>\n",
       "      <th>qtd_ben_bvn</th>\n",
       "      <th>qtd_ben_bvg</th>\n",
       "      <th>qtd_ben_bsp</th>\n",
       "    </tr>\n",
       "  </thead>\n",
       "  <tbody>\n",
       "    <tr>\n",
       "      <th>0</th>\n",
       "      <td>AC</td>\n",
       "      <td>997811</td>\n",
       "      <td>1936587</td>\n",
       "      <td>273797</td>\n",
       "      <td>41881</td>\n",
       "      <td>54736</td>\n",
       "      <td>700009</td>\n",
       "    </tr>\n",
       "    <tr>\n",
       "      <th>1</th>\n",
       "      <td>AL</td>\n",
       "      <td>4576112</td>\n",
       "      <td>6122378</td>\n",
       "      <td>902574</td>\n",
       "      <td>135503</td>\n",
       "      <td>192428</td>\n",
       "      <td>2208443</td>\n",
       "    </tr>\n",
       "    <tr>\n",
       "      <th>2</th>\n",
       "      <td>AM</td>\n",
       "      <td>4376070</td>\n",
       "      <td>8432024</td>\n",
       "      <td>1168604</td>\n",
       "      <td>127422</td>\n",
       "      <td>214889</td>\n",
       "      <td>2387218</td>\n",
       "    </tr>\n",
       "    <tr>\n",
       "      <th>3</th>\n",
       "      <td>AP</td>\n",
       "      <td>846016</td>\n",
       "      <td>1578015</td>\n",
       "      <td>222096</td>\n",
       "      <td>26288</td>\n",
       "      <td>35511</td>\n",
       "      <td>480178</td>\n",
       "    </tr>\n",
       "    <tr>\n",
       "      <th>4</th>\n",
       "      <td>BA</td>\n",
       "      <td>20742790</td>\n",
       "      <td>24236656</td>\n",
       "      <td>3738022</td>\n",
       "      <td>506624</td>\n",
       "      <td>661963</td>\n",
       "      <td>10422621</td>\n",
       "    </tr>\n",
       "    <tr>\n",
       "      <th>5</th>\n",
       "      <td>CE</td>\n",
       "      <td>11822028</td>\n",
       "      <td>14797946</td>\n",
       "      <td>2198814</td>\n",
       "      <td>311881</td>\n",
       "      <td>481124</td>\n",
       "      <td>5936183</td>\n",
       "    </tr>\n",
       "    <tr>\n",
       "      <th>6</th>\n",
       "      <td>DF</td>\n",
       "      <td>715883</td>\n",
       "      <td>1306828</td>\n",
       "      <td>161246</td>\n",
       "      <td>18487</td>\n",
       "      <td>29756</td>\n",
       "      <td>304868</td>\n",
       "    </tr>\n",
       "    <tr>\n",
       "      <th>7</th>\n",
       "      <td>ES</td>\n",
       "      <td>1711341</td>\n",
       "      <td>3052941</td>\n",
       "      <td>358673</td>\n",
       "      <td>58492</td>\n",
       "      <td>68287</td>\n",
       "      <td>843553</td>\n",
       "    </tr>\n",
       "    <tr>\n",
       "      <th>8</th>\n",
       "      <td>GO</td>\n",
       "      <td>2649843</td>\n",
       "      <td>5425109</td>\n",
       "      <td>653573</td>\n",
       "      <td>99970</td>\n",
       "      <td>123885</td>\n",
       "      <td>816368</td>\n",
       "    </tr>\n",
       "    <tr>\n",
       "      <th>9</th>\n",
       "      <td>MA</td>\n",
       "      <td>11132464</td>\n",
       "      <td>16590893</td>\n",
       "      <td>2380653</td>\n",
       "      <td>314062</td>\n",
       "      <td>410171</td>\n",
       "      <td>6037696</td>\n",
       "    </tr>\n",
       "    <tr>\n",
       "      <th>10</th>\n",
       "      <td>MG</td>\n",
       "      <td>10387363</td>\n",
       "      <td>16294285</td>\n",
       "      <td>2174182</td>\n",
       "      <td>330257</td>\n",
       "      <td>413435</td>\n",
       "      <td>5505811</td>\n",
       "    </tr>\n",
       "    <tr>\n",
       "      <th>11</th>\n",
       "      <td>MS</td>\n",
       "      <td>1164505</td>\n",
       "      <td>2374241</td>\n",
       "      <td>255009</td>\n",
       "      <td>45417</td>\n",
       "      <td>54715</td>\n",
       "      <td>544485</td>\n",
       "    </tr>\n",
       "    <tr>\n",
       "      <th>12</th>\n",
       "      <td>MT</td>\n",
       "      <td>1401686</td>\n",
       "      <td>3026737</td>\n",
       "      <td>313590</td>\n",
       "      <td>59527</td>\n",
       "      <td>73262</td>\n",
       "      <td>446265</td>\n",
       "    </tr>\n",
       "    <tr>\n",
       "      <th>13</th>\n",
       "      <td>PA</td>\n",
       "      <td>10698903</td>\n",
       "      <td>17239126</td>\n",
       "      <td>2480349</td>\n",
       "      <td>271110</td>\n",
       "      <td>418716</td>\n",
       "      <td>4902894</td>\n",
       "    </tr>\n",
       "    <tr>\n",
       "      <th>14</th>\n",
       "      <td>PB</td>\n",
       "      <td>5982966</td>\n",
       "      <td>7019910</td>\n",
       "      <td>1037679</td>\n",
       "      <td>163722</td>\n",
       "      <td>218434</td>\n",
       "      <td>3517621</td>\n",
       "    </tr>\n",
       "    <tr>\n",
       "      <th>15</th>\n",
       "      <td>PE</td>\n",
       "      <td>13218069</td>\n",
       "      <td>15797363</td>\n",
       "      <td>2333903</td>\n",
       "      <td>326392</td>\n",
       "      <td>392802</td>\n",
       "      <td>6295906</td>\n",
       "    </tr>\n",
       "    <tr>\n",
       "      <th>16</th>\n",
       "      <td>PI</td>\n",
       "      <td>5217534</td>\n",
       "      <td>6265472</td>\n",
       "      <td>957376</td>\n",
       "      <td>141870</td>\n",
       "      <td>188992</td>\n",
       "      <td>3326161</td>\n",
       "    </tr>\n",
       "    <tr>\n",
       "      <th>17</th>\n",
       "      <td>PR</td>\n",
       "      <td>3258872</td>\n",
       "      <td>6209563</td>\n",
       "      <td>659075</td>\n",
       "      <td>125996</td>\n",
       "      <td>172119</td>\n",
       "      <td>1539299</td>\n",
       "    </tr>\n",
       "    <tr>\n",
       "      <th>18</th>\n",
       "      <td>RJ</td>\n",
       "      <td>9344451</td>\n",
       "      <td>13237636</td>\n",
       "      <td>1686410</td>\n",
       "      <td>207861</td>\n",
       "      <td>270462</td>\n",
       "      <td>5164847</td>\n",
       "    </tr>\n",
       "    <tr>\n",
       "      <th>19</th>\n",
       "      <td>RN</td>\n",
       "      <td>3938807</td>\n",
       "      <td>4929576</td>\n",
       "      <td>725828</td>\n",
       "      <td>97519</td>\n",
       "      <td>138339</td>\n",
       "      <td>1952195</td>\n",
       "    </tr>\n",
       "    <tr>\n",
       "      <th>20</th>\n",
       "      <td>RO</td>\n",
       "      <td>666688</td>\n",
       "      <td>1515150</td>\n",
       "      <td>189355</td>\n",
       "      <td>25029</td>\n",
       "      <td>35930</td>\n",
       "      <td>130110</td>\n",
       "    </tr>\n",
       "    <tr>\n",
       "      <th>21</th>\n",
       "      <td>RR</td>\n",
       "      <td>506097</td>\n",
       "      <td>934529</td>\n",
       "      <td>115414</td>\n",
       "      <td>10211</td>\n",
       "      <td>26025</td>\n",
       "      <td>258128</td>\n",
       "    </tr>\n",
       "    <tr>\n",
       "      <th>22</th>\n",
       "      <td>RS</td>\n",
       "      <td>3446375</td>\n",
       "      <td>5802680</td>\n",
       "      <td>694840</td>\n",
       "      <td>104847</td>\n",
       "      <td>139581</td>\n",
       "      <td>1679750</td>\n",
       "    </tr>\n",
       "    <tr>\n",
       "      <th>23</th>\n",
       "      <td>SC</td>\n",
       "      <td>1053766</td>\n",
       "      <td>2198142</td>\n",
       "      <td>230784</td>\n",
       "      <td>43761</td>\n",
       "      <td>54383</td>\n",
       "      <td>551998</td>\n",
       "    </tr>\n",
       "    <tr>\n",
       "      <th>24</th>\n",
       "      <td>SE</td>\n",
       "      <td>3280227</td>\n",
       "      <td>3893676</td>\n",
       "      <td>546620</td>\n",
       "      <td>89085</td>\n",
       "      <td>109821</td>\n",
       "      <td>1183761</td>\n",
       "    </tr>\n",
       "    <tr>\n",
       "      <th>25</th>\n",
       "      <td>SP</td>\n",
       "      <td>14842034</td>\n",
       "      <td>24388698</td>\n",
       "      <td>2679348</td>\n",
       "      <td>407386</td>\n",
       "      <td>651483</td>\n",
       "      <td>7650359</td>\n",
       "    </tr>\n",
       "    <tr>\n",
       "      <th>26</th>\n",
       "      <td>TO</td>\n",
       "      <td>1169293</td>\n",
       "      <td>2192585</td>\n",
       "      <td>289586</td>\n",
       "      <td>44067</td>\n",
       "      <td>63603</td>\n",
       "      <td>506112</td>\n",
       "    </tr>\n",
       "  </tbody>\n",
       "</table>\n",
       "</div>"
      ],
      "text/plain": [
       "   siglauf  qtd_ben_bas  qtd_ben_var  qtd_ben_bvj  qtd_ben_bvn  qtd_ben_bvg  \\\n",
       "0       AC       997811      1936587       273797        41881        54736   \n",
       "1       AL      4576112      6122378       902574       135503       192428   \n",
       "2       AM      4376070      8432024      1168604       127422       214889   \n",
       "3       AP       846016      1578015       222096        26288        35511   \n",
       "4       BA     20742790     24236656      3738022       506624       661963   \n",
       "5       CE     11822028     14797946      2198814       311881       481124   \n",
       "6       DF       715883      1306828       161246        18487        29756   \n",
       "7       ES      1711341      3052941       358673        58492        68287   \n",
       "8       GO      2649843      5425109       653573        99970       123885   \n",
       "9       MA     11132464     16590893      2380653       314062       410171   \n",
       "10      MG     10387363     16294285      2174182       330257       413435   \n",
       "11      MS      1164505      2374241       255009        45417        54715   \n",
       "12      MT      1401686      3026737       313590        59527        73262   \n",
       "13      PA     10698903     17239126      2480349       271110       418716   \n",
       "14      PB      5982966      7019910      1037679       163722       218434   \n",
       "15      PE     13218069     15797363      2333903       326392       392802   \n",
       "16      PI      5217534      6265472       957376       141870       188992   \n",
       "17      PR      3258872      6209563       659075       125996       172119   \n",
       "18      RJ      9344451     13237636      1686410       207861       270462   \n",
       "19      RN      3938807      4929576       725828        97519       138339   \n",
       "20      RO       666688      1515150       189355        25029        35930   \n",
       "21      RR       506097       934529       115414        10211        26025   \n",
       "22      RS      3446375      5802680       694840       104847       139581   \n",
       "23      SC      1053766      2198142       230784        43761        54383   \n",
       "24      SE      3280227      3893676       546620        89085       109821   \n",
       "25      SP     14842034     24388698      2679348       407386       651483   \n",
       "26      TO      1169293      2192585       289586        44067        63603   \n",
       "\n",
       "    qtd_ben_bsp  \n",
       "0        700009  \n",
       "1       2208443  \n",
       "2       2387218  \n",
       "3        480178  \n",
       "4      10422621  \n",
       "5       5936183  \n",
       "6        304868  \n",
       "7        843553  \n",
       "8        816368  \n",
       "9       6037696  \n",
       "10      5505811  \n",
       "11       544485  \n",
       "12       446265  \n",
       "13      4902894  \n",
       "14      3517621  \n",
       "15      6295906  \n",
       "16      3326161  \n",
       "17      1539299  \n",
       "18      5164847  \n",
       "19      1952195  \n",
       "20       130110  \n",
       "21       258128  \n",
       "22      1679750  \n",
       "23       551998  \n",
       "24      1183761  \n",
       "25      7650359  \n",
       "26       506112  "
      ]
     },
     "execution_count": 18,
     "metadata": {},
     "output_type": "execute_result"
    }
   ],
   "source": [
    "#Criando um novo DataFrame a partir do DataFrame Original\n",
    "df_estados_2019  = df_2019.groupby('siglauf').sum().copy()\n",
    "#Atribuindo index ao novo DataFrame\n",
    "df_estados_2019.reset_index(level=0, inplace=True)\n",
    "df_estados_2019"
   ]
  },
  {
   "cell_type": "markdown",
   "metadata": {},
   "source": [
    "# 5 Estados com Mais Distribuições QTD_BEN_BAS"
   ]
  },
  {
   "cell_type": "code",
   "execution_count": 19,
   "metadata": {},
   "outputs": [
    {
     "data": {
      "text/html": [
       "<div>\n",
       "<style scoped>\n",
       "    .dataframe tbody tr th:only-of-type {\n",
       "        vertical-align: middle;\n",
       "    }\n",
       "\n",
       "    .dataframe tbody tr th {\n",
       "        vertical-align: top;\n",
       "    }\n",
       "\n",
       "    .dataframe thead th {\n",
       "        text-align: right;\n",
       "    }\n",
       "</style>\n",
       "<table border=\"1\" class=\"dataframe\">\n",
       "  <thead>\n",
       "    <tr style=\"text-align: right;\">\n",
       "      <th></th>\n",
       "      <th>siglauf</th>\n",
       "      <th>qtd_ben_bas</th>\n",
       "    </tr>\n",
       "  </thead>\n",
       "  <tbody>\n",
       "    <tr>\n",
       "      <th>4</th>\n",
       "      <td>BA</td>\n",
       "      <td>20742790</td>\n",
       "    </tr>\n",
       "    <tr>\n",
       "      <th>25</th>\n",
       "      <td>SP</td>\n",
       "      <td>14842034</td>\n",
       "    </tr>\n",
       "    <tr>\n",
       "      <th>15</th>\n",
       "      <td>PE</td>\n",
       "      <td>13218069</td>\n",
       "    </tr>\n",
       "    <tr>\n",
       "      <th>5</th>\n",
       "      <td>CE</td>\n",
       "      <td>11822028</td>\n",
       "    </tr>\n",
       "    <tr>\n",
       "      <th>9</th>\n",
       "      <td>MA</td>\n",
       "      <td>11132464</td>\n",
       "    </tr>\n",
       "  </tbody>\n",
       "</table>\n",
       "</div>"
      ],
      "text/plain": [
       "   siglauf  qtd_ben_bas\n",
       "4       BA     20742790\n",
       "25      SP     14842034\n",
       "15      PE     13218069\n",
       "5       CE     11822028\n",
       "9       MA     11132464"
      ]
     },
     "execution_count": 19,
     "metadata": {},
     "output_type": "execute_result"
    }
   ],
   "source": [
    "df_estados_2019.nlargest(5,\"qtd_ben_bas\")[['siglauf','qtd_ben_bas']]"
   ]
  },
  {
   "cell_type": "code",
   "execution_count": 20,
   "metadata": {},
   "outputs": [
    {
     "data": {
      "text/plain": [
       "<matplotlib.axes._subplots.AxesSubplot at 0x152cddebca0>"
      ]
     },
     "execution_count": 20,
     "metadata": {},
     "output_type": "execute_result"
    },
    {
     "data": {
      "image/png": "[encoded data removed]",
      "text/plain": [
       "<Figure size 432x288 with 1 Axes>"
      ]
     },
     "metadata": {
      "needs_background": "light"
     },
     "output_type": "display_data"
    }
   ],
   "source": [
    "sns.barplot( y = \"qtd_ben_bas\", x = \"siglauf\", data = df_estados_2019.nlargest(5,\"qtd_ben_bas\"))"
   ]
  },
  {
   "cell_type": "markdown",
   "metadata": {},
   "source": [
    "# 5 Estados com Mais Distribuições QTD_BEN_VAR"
   ]
  },
  {
   "cell_type": "code",
   "execution_count": 21,
   "metadata": {},
   "outputs": [
    {
     "data": {
      "text/html": [
       "<div>\n",
       "<style scoped>\n",
       "    .dataframe tbody tr th:only-of-type {\n",
       "        vertical-align: middle;\n",
       "    }\n",
       "\n",
       "    .dataframe tbody tr th {\n",
       "        vertical-align: top;\n",
       "    }\n",
       "\n",
       "    .dataframe thead th {\n",
       "        text-align: right;\n",
       "    }\n",
       "</style>\n",
       "<table border=\"1\" class=\"dataframe\">\n",
       "  <thead>\n",
       "    <tr style=\"text-align: right;\">\n",
       "      <th></th>\n",
       "      <th>siglauf</th>\n",
       "      <th>qtd_ben_var</th>\n",
       "    </tr>\n",
       "  </thead>\n",
       "  <tbody>\n",
       "    <tr>\n",
       "      <th>25</th>\n",
       "      <td>SP</td>\n",
       "      <td>24388698</td>\n",
       "    </tr>\n",
       "    <tr>\n",
       "      <th>4</th>\n",
       "      <td>BA</td>\n",
       "      <td>24236656</td>\n",
       "    </tr>\n",
       "    <tr>\n",
       "      <th>13</th>\n",
       "      <td>PA</td>\n",
       "      <td>17239126</td>\n",
       "    </tr>\n",
       "    <tr>\n",
       "      <th>9</th>\n",
       "      <td>MA</td>\n",
       "      <td>16590893</td>\n",
       "    </tr>\n",
       "    <tr>\n",
       "      <th>10</th>\n",
       "      <td>MG</td>\n",
       "      <td>16294285</td>\n",
       "    </tr>\n",
       "  </tbody>\n",
       "</table>\n",
       "</div>"
      ],
      "text/plain": [
       "   siglauf  qtd_ben_var\n",
       "25      SP     24388698\n",
       "4       BA     24236656\n",
       "13      PA     17239126\n",
       "9       MA     16590893\n",
       "10      MG     16294285"
      ]
     },
     "execution_count": 21,
     "metadata": {},
     "output_type": "execute_result"
    }
   ],
   "source": [
    "df_estados_2019.nlargest(5,\"qtd_ben_var\")[['siglauf','qtd_ben_var']]"
   ]
  },
  {
   "cell_type": "code",
   "execution_count": 22,
   "metadata": {},
   "outputs": [
    {
     "data": {
      "text/plain": [
       "<matplotlib.axes._subplots.AxesSubplot at 0x152ce48ddc0>"
      ]
     },
     "execution_count": 22,
     "metadata": {},
     "output_type": "execute_result"
    },
    {
     "data": {
      "image/png": "[encoded data removed]",
      "text/plain": [
       "<Figure size 432x288 with 1 Axes>"
      ]
     },
     "metadata": {
      "needs_background": "light"
     },
     "output_type": "display_data"
    }
   ],
   "source": [
    "sns.barplot( y = \"qtd_ben_var\", x = \"siglauf\", data = df_estados_2019.nlargest(5,\"qtd_ben_var\"))"
   ]
  },
  {
   "cell_type": "markdown",
   "metadata": {},
   "source": [
    "# 5 Estados com Mais Distribuições QTD_BEN_BVJ"
   ]
  },
  {
   "cell_type": "code",
   "execution_count": 23,
   "metadata": {},
   "outputs": [
    {
     "data": {
      "text/html": [
       "<div>\n",
       "<style scoped>\n",
       "    .dataframe tbody tr th:only-of-type {\n",
       "        vertical-align: middle;\n",
       "    }\n",
       "\n",
       "    .dataframe tbody tr th {\n",
       "        vertical-align: top;\n",
       "    }\n",
       "\n",
       "    .dataframe thead th {\n",
       "        text-align: right;\n",
       "    }\n",
       "</style>\n",
       "<table border=\"1\" class=\"dataframe\">\n",
       "  <thead>\n",
       "    <tr style=\"text-align: right;\">\n",
       "      <th></th>\n",
       "      <th>siglauf</th>\n",
       "      <th>qtd_ben_bvj</th>\n",
       "    </tr>\n",
       "  </thead>\n",
       "  <tbody>\n",
       "    <tr>\n",
       "      <th>4</th>\n",
       "      <td>BA</td>\n",
       "      <td>3738022</td>\n",
       "    </tr>\n",
       "    <tr>\n",
       "      <th>25</th>\n",
       "      <td>SP</td>\n",
       "      <td>2679348</td>\n",
       "    </tr>\n",
       "    <tr>\n",
       "      <th>13</th>\n",
       "      <td>PA</td>\n",
       "      <td>2480349</td>\n",
       "    </tr>\n",
       "    <tr>\n",
       "      <th>9</th>\n",
       "      <td>MA</td>\n",
       "      <td>2380653</td>\n",
       "    </tr>\n",
       "    <tr>\n",
       "      <th>15</th>\n",
       "      <td>PE</td>\n",
       "      <td>2333903</td>\n",
       "    </tr>\n",
       "  </tbody>\n",
       "</table>\n",
       "</div>"
      ],
      "text/plain": [
       "   siglauf  qtd_ben_bvj\n",
       "4       BA      3738022\n",
       "25      SP      2679348\n",
       "13      PA      2480349\n",
       "9       MA      2380653\n",
       "15      PE      2333903"
      ]
     },
     "execution_count": 23,
     "metadata": {},
     "output_type": "execute_result"
    }
   ],
   "source": [
    "df_estados_2019.nlargest(5,\"qtd_ben_bvj\")[['siglauf','qtd_ben_bvj']]"
   ]
  },
  {
   "cell_type": "code",
   "execution_count": 24,
   "metadata": {},
   "outputs": [
    {
     "data": {
      "text/plain": [
       "<matplotlib.axes._subplots.AxesSubplot at 0x152c8cf2f10>"
      ]
     },
     "execution_count": 24,
     "metadata": {},
     "output_type": "execute_result"
    },
    {
     "data": {
      "image/png": "[encoded data removed]",
      "text/plain": [
       "<Figure size 432x288 with 1 Axes>"
      ]
     },
     "metadata": {
      "needs_background": "light"
     },
     "output_type": "display_data"
    }
   ],
   "source": [
    "sns.barplot( y = \"qtd_ben_bvj\", x = \"siglauf\", data = df_estados_2019.nlargest(5,\"qtd_ben_bvj\"))"
   ]
  },
  {
   "cell_type": "markdown",
   "metadata": {},
   "source": [
    "# 5 Estados com Mais Distribuições QTD_BEN_BVN"
   ]
  },
  {
   "cell_type": "code",
   "execution_count": 25,
   "metadata": {},
   "outputs": [
    {
     "data": {
      "text/html": [
       "<div>\n",
       "<style scoped>\n",
       "    .dataframe tbody tr th:only-of-type {\n",
       "        vertical-align: middle;\n",
       "    }\n",
       "\n",
       "    .dataframe tbody tr th {\n",
       "        vertical-align: top;\n",
       "    }\n",
       "\n",
       "    .dataframe thead th {\n",
       "        text-align: right;\n",
       "    }\n",
       "</style>\n",
       "<table border=\"1\" class=\"dataframe\">\n",
       "  <thead>\n",
       "    <tr style=\"text-align: right;\">\n",
       "      <th></th>\n",
       "      <th>siglauf</th>\n",
       "      <th>qtd_ben_bvn</th>\n",
       "    </tr>\n",
       "  </thead>\n",
       "  <tbody>\n",
       "    <tr>\n",
       "      <th>4</th>\n",
       "      <td>BA</td>\n",
       "      <td>506624</td>\n",
       "    </tr>\n",
       "    <tr>\n",
       "      <th>25</th>\n",
       "      <td>SP</td>\n",
       "      <td>407386</td>\n",
       "    </tr>\n",
       "    <tr>\n",
       "      <th>10</th>\n",
       "      <td>MG</td>\n",
       "      <td>330257</td>\n",
       "    </tr>\n",
       "    <tr>\n",
       "      <th>15</th>\n",
       "      <td>PE</td>\n",
       "      <td>326392</td>\n",
       "    </tr>\n",
       "    <tr>\n",
       "      <th>9</th>\n",
       "      <td>MA</td>\n",
       "      <td>314062</td>\n",
       "    </tr>\n",
       "  </tbody>\n",
       "</table>\n",
       "</div>"
      ],
      "text/plain": [
       "   siglauf  qtd_ben_bvn\n",
       "4       BA       506624\n",
       "25      SP       407386\n",
       "10      MG       330257\n",
       "15      PE       326392\n",
       "9       MA       314062"
      ]
     },
     "execution_count": 25,
     "metadata": {},
     "output_type": "execute_result"
    }
   ],
   "source": [
    "df_estados_2019.nlargest(5,\"qtd_ben_bvn\")[['siglauf','qtd_ben_bvn']]"
   ]
  },
  {
   "cell_type": "code",
   "execution_count": 26,
   "metadata": {},
   "outputs": [
    {
     "data": {
      "text/plain": [
       "<matplotlib.axes._subplots.AxesSubplot at 0x152cdc46d00>"
      ]
     },
     "execution_count": 26,
     "metadata": {},
     "output_type": "execute_result"
    },
    {
     "data": {
      "image/png": "[encoded data removed]",
      "text/plain": [
       "<Figure size 432x288 with 1 Axes>"
      ]
     },
     "metadata": {
      "needs_background": "light"
     },
     "output_type": "display_data"
    }
   ],
   "source": [
    "sns.barplot( y = \"qtd_ben_bvn\", x = \"siglauf\", data = df_estados_2019.nlargest(5,\"qtd_ben_bvn\"))"
   ]
  },
  {
   "cell_type": "markdown",
   "metadata": {},
   "source": [
    "# 5 Estados com Mais Distribuições QTD_BEN_BVG - 2019"
   ]
  },
  {
   "cell_type": "code",
   "execution_count": 27,
   "metadata": {},
   "outputs": [
    {
     "data": {
      "text/html": [
       "<div>\n",
       "<style scoped>\n",
       "    .dataframe tbody tr th:only-of-type {\n",
       "        vertical-align: middle;\n",
       "    }\n",
       "\n",
       "    .dataframe tbody tr th {\n",
       "        vertical-align: top;\n",
       "    }\n",
       "\n",
       "    .dataframe thead th {\n",
       "        text-align: right;\n",
       "    }\n",
       "</style>\n",
       "<table border=\"1\" class=\"dataframe\">\n",
       "  <thead>\n",
       "    <tr style=\"text-align: right;\">\n",
       "      <th></th>\n",
       "      <th>siglauf</th>\n",
       "      <th>qtd_ben_bvg</th>\n",
       "    </tr>\n",
       "  </thead>\n",
       "  <tbody>\n",
       "    <tr>\n",
       "      <th>4</th>\n",
       "      <td>BA</td>\n",
       "      <td>661963</td>\n",
       "    </tr>\n",
       "    <tr>\n",
       "      <th>25</th>\n",
       "      <td>SP</td>\n",
       "      <td>651483</td>\n",
       "    </tr>\n",
       "    <tr>\n",
       "      <th>5</th>\n",
       "      <td>CE</td>\n",
       "      <td>481124</td>\n",
       "    </tr>\n",
       "    <tr>\n",
       "      <th>13</th>\n",
       "      <td>PA</td>\n",
       "      <td>418716</td>\n",
       "    </tr>\n",
       "    <tr>\n",
       "      <th>10</th>\n",
       "      <td>MG</td>\n",
       "      <td>413435</td>\n",
       "    </tr>\n",
       "  </tbody>\n",
       "</table>\n",
       "</div>"
      ],
      "text/plain": [
       "   siglauf  qtd_ben_bvg\n",
       "4       BA       661963\n",
       "25      SP       651483\n",
       "5       CE       481124\n",
       "13      PA       418716\n",
       "10      MG       413435"
      ]
     },
     "execution_count": 27,
     "metadata": {},
     "output_type": "execute_result"
    }
   ],
   "source": [
    "df_estados_2019.nlargest(5,\"qtd_ben_bvg\")[['siglauf','qtd_ben_bvg']]"
   ]
  },
  {
   "cell_type": "code",
   "execution_count": 28,
   "metadata": {},
   "outputs": [
    {
     "data": {
      "text/plain": [
       "<matplotlib.axes._subplots.AxesSubplot at 0x152cde6f2e0>"
      ]
     },
     "execution_count": 28,
     "metadata": {},
     "output_type": "execute_result"
    },
    {
     "data": {
      "image/png": "[encoded data removed]",
      "text/plain": [
       "<Figure size 432x288 with 1 Axes>"
      ]
     },
     "metadata": {
      "needs_background": "light"
     },
     "output_type": "display_data"
    }
   ],
   "source": [
    "sns.barplot( y = \"qtd_ben_bvg\", x = \"siglauf\", data = df_estados_2019.nlargest(5,\"qtd_ben_bvg\"))"
   ]
  },
  {
   "cell_type": "markdown",
   "metadata": {},
   "source": [
    "# 5 Estados com Mais Distribuições QTD_BEN_BSP"
   ]
  },
  {
   "cell_type": "code",
   "execution_count": 29,
   "metadata": {},
   "outputs": [
    {
     "data": {
      "text/html": [
       "<div>\n",
       "<style scoped>\n",
       "    .dataframe tbody tr th:only-of-type {\n",
       "        vertical-align: middle;\n",
       "    }\n",
       "\n",
       "    .dataframe tbody tr th {\n",
       "        vertical-align: top;\n",
       "    }\n",
       "\n",
       "    .dataframe thead th {\n",
       "        text-align: right;\n",
       "    }\n",
       "</style>\n",
       "<table border=\"1\" class=\"dataframe\">\n",
       "  <thead>\n",
       "    <tr style=\"text-align: right;\">\n",
       "      <th></th>\n",
       "      <th>siglauf</th>\n",
       "      <th>qtd_ben_bsp</th>\n",
       "    </tr>\n",
       "  </thead>\n",
       "  <tbody>\n",
       "    <tr>\n",
       "      <th>4</th>\n",
       "      <td>BA</td>\n",
       "      <td>10422621</td>\n",
       "    </tr>\n",
       "    <tr>\n",
       "      <th>25</th>\n",
       "      <td>SP</td>\n",
       "      <td>7650359</td>\n",
       "    </tr>\n",
       "    <tr>\n",
       "      <th>15</th>\n",
       "      <td>PE</td>\n",
       "      <td>6295906</td>\n",
       "    </tr>\n",
       "    <tr>\n",
       "      <th>9</th>\n",
       "      <td>MA</td>\n",
       "      <td>6037696</td>\n",
       "    </tr>\n",
       "    <tr>\n",
       "      <th>5</th>\n",
       "      <td>CE</td>\n",
       "      <td>5936183</td>\n",
       "    </tr>\n",
       "  </tbody>\n",
       "</table>\n",
       "</div>"
      ],
      "text/plain": [
       "   siglauf  qtd_ben_bsp\n",
       "4       BA     10422621\n",
       "25      SP      7650359\n",
       "15      PE      6295906\n",
       "9       MA      6037696\n",
       "5       CE      5936183"
      ]
     },
     "execution_count": 29,
     "metadata": {},
     "output_type": "execute_result"
    }
   ],
   "source": [
    "df_estados_2019.nlargest(5,\"qtd_ben_bsp\")[['siglauf','qtd_ben_bsp']]"
   ]
  },
  {
   "cell_type": "code",
   "execution_count": 30,
   "metadata": {},
   "outputs": [
    {
     "data": {
      "text/plain": [
       "<matplotlib.axes._subplots.AxesSubplot at 0x152cdd37100>"
      ]
     },
     "execution_count": 30,
     "metadata": {},
     "output_type": "execute_result"
    },
    {
     "data": {
      "image/png": "[encoded data removed]",
      "text/plain": [
       "<Figure size 432x288 with 1 Axes>"
      ]
     },
     "metadata": {
      "needs_background": "light"
     },
     "output_type": "display_data"
    }
   ],
   "source": [
    "sns.barplot( y = \"qtd_ben_bsp\", x = \"siglauf\", data = df_estados_2019.nlargest(5,\"qtd_ben_bsp\"))"
   ]
  },
  {
   "cell_type": "markdown",
   "metadata": {},
   "source": [
    "# Dividindo o DataFrame por Regiões - 2019"
   ]
  },
  {
   "cell_type": "code",
   "execution_count": 31,
   "metadata": {},
   "outputs": [],
   "source": [
    "#**************************** Região Sudeste ***************************************************** \n",
    "df_2019_sudeste = df_2019[(df_2019['siglauf'] =='RJ') | (df_2019['siglauf'] =='SP') \n",
    "                          | (df_2019['siglauf'] =='MG') | (df_2019['siglauf'] =='ES')].copy()\n",
    "df_2019_sudeste['regiao']  = 'SUDESTE'\n",
    "#**************************** Região Norte ***************************************************** \n",
    "df_2019_norte = df_2019[(df_2019['siglauf'] =='AM') | (df_2019['siglauf'] =='AC')| \n",
    "                        (df_2019['siglauf'] =='RO') | (df_2019['siglauf'] =='RR')| \n",
    "                        (df_2019['siglauf'] =='AP') | (df_2019['siglauf'] =='PA')|\n",
    "                        (df_2019['siglauf'] =='TO')].copy()\n",
    "df_2019_norte['regiao']  = 'NORTE'\n",
    "#**************************** Região Nordeste ***************************************************** \n",
    "df_2019_nordeste = df_2019[(df_2019['siglauf'] =='MA') | (df_2019['siglauf'] =='PI')| \n",
    "                            (df_2019['siglauf'] =='RN') |(df_2019['siglauf'] =='CE')| \n",
    "                            (df_2019['siglauf'] =='PB') | (df_2019['siglauf'] =='BA')| \n",
    "                            (df_2019['siglauf'] =='AL') | (df_2019['siglauf'] =='PE')|\n",
    "                            (df_2019['siglauf'] =='SE')].copy()\n",
    "df_2019_nordeste['regiao']  = 'NORDESTE'\n",
    "#**************************** Região Centro-Oeste ***************************************************** \n",
    "df_2019_centro_oeste = df_2019[(df_2019['siglauf'] =='GO') | (df_2019['siglauf'] =='MT')| \n",
    "                               (df_2019['siglauf'] =='MS') | (df_2019['siglauf'] =='DF')].copy()\n",
    "df_2019_centro_oeste['regiao']  = 'CENTRO-OESTE'\n",
    "#**************************** Região Sul ***************************************************** \n",
    "df_2019_sul = df_2019[(df_2019['siglauf'] =='SC') | (df_2019['siglauf'] =='PR')|\n",
    "                      (df_2019['siglauf'] =='RS')].copy()\n",
    "df_2019_sul['regiao']  = 'SUL'\n",
    "\n"
   ]
  },
  {
   "cell_type": "markdown",
   "metadata": {},
   "source": [
    "# Somando Quantidade de Registros de Cada Região - 2019"
   ]
  },
  {
   "cell_type": "code",
   "execution_count": 32,
   "metadata": {},
   "outputs": [
    {
     "name": "stdout",
     "output_type": "stream",
     "text": [
      "Região Sudeste: 20016 registros\n",
      "Região Sul: 14292 registros\n",
      "Região Norte: 5400 registros\n",
      "Região Nordeste: 21528 registros\n",
      "Região Centro-Oeste: 5604 registros\n",
      "\n",
      "Total: 66840 registros\n"
     ]
    }
   ],
   "source": [
    "total_registros = (len(df_2019_sudeste) + len(df_2019_sul) + len(df_2019_norte) + \n",
    "                   len(df_2019_nordeste) + len(df_2019_centro_oeste))\n",
    "\n",
    "print(\"Região Sudeste: \"+ str(len(df_2019_sudeste)) + \" registros\")\n",
    "print(\"Região Sul: \" + str(len(df_2019_sul)) + \" registros\")\n",
    "print(\"Região Norte: \" + str(len(df_2019_norte)) + \" registros\")\n",
    "print(\"Região Nordeste: \" + str(len(df_2019_nordeste)) + \" registros\")\n",
    "print(\"Região Centro-Oeste: \" + str(len(df_2019_centro_oeste)) + \" registros\")\n",
    "print()\n",
    "print(\"Total: \" + str(total_registros) +\" registros\")"
   ]
  },
  {
   "cell_type": "markdown",
   "metadata": {},
   "source": [
    "# Observando Dados Por Região - 2019"
   ]
  },
  {
   "cell_type": "code",
   "execution_count": 33,
   "metadata": {},
   "outputs": [
    {
     "data": {
      "text/html": [
       "<div>\n",
       "<style scoped>\n",
       "    .dataframe tbody tr th:only-of-type {\n",
       "        vertical-align: middle;\n",
       "    }\n",
       "\n",
       "    .dataframe tbody tr th {\n",
       "        vertical-align: top;\n",
       "    }\n",
       "\n",
       "    .dataframe thead th {\n",
       "        text-align: right;\n",
       "    }\n",
       "</style>\n",
       "<table border=\"1\" class=\"dataframe\">\n",
       "  <thead>\n",
       "    <tr style=\"text-align: right;\">\n",
       "      <th></th>\n",
       "      <th>regiao</th>\n",
       "      <th>qtd_ben_bas</th>\n",
       "      <th>qtd_ben_var</th>\n",
       "      <th>qtd_ben_bvj</th>\n",
       "      <th>qtd_ben_bvn</th>\n",
       "      <th>qtd_ben_bvg</th>\n",
       "      <th>qtd_ben_bsp</th>\n",
       "    </tr>\n",
       "  </thead>\n",
       "  <tbody>\n",
       "    <tr>\n",
       "      <th>0</th>\n",
       "      <td>SUDESTE</td>\n",
       "      <td>36285189</td>\n",
       "      <td>56973560</td>\n",
       "      <td>6898613</td>\n",
       "      <td>1003996</td>\n",
       "      <td>1403667</td>\n",
       "      <td>19164570</td>\n",
       "    </tr>\n",
       "    <tr>\n",
       "      <th>1</th>\n",
       "      <td>NORTE</td>\n",
       "      <td>19260878</td>\n",
       "      <td>33828016</td>\n",
       "      <td>4739201</td>\n",
       "      <td>546008</td>\n",
       "      <td>849410</td>\n",
       "      <td>9364649</td>\n",
       "    </tr>\n",
       "    <tr>\n",
       "      <th>2</th>\n",
       "      <td>NORDESTE</td>\n",
       "      <td>79910997</td>\n",
       "      <td>99653870</td>\n",
       "      <td>14821469</td>\n",
       "      <td>2086658</td>\n",
       "      <td>2794074</td>\n",
       "      <td>40880587</td>\n",
       "    </tr>\n",
       "    <tr>\n",
       "      <th>3</th>\n",
       "      <td>SUL</td>\n",
       "      <td>7759013</td>\n",
       "      <td>14210385</td>\n",
       "      <td>1584699</td>\n",
       "      <td>274604</td>\n",
       "      <td>366083</td>\n",
       "      <td>3771047</td>\n",
       "    </tr>\n",
       "    <tr>\n",
       "      <th>4</th>\n",
       "      <td>CENTRO-OESTE</td>\n",
       "      <td>5931917</td>\n",
       "      <td>12132915</td>\n",
       "      <td>1383418</td>\n",
       "      <td>223401</td>\n",
       "      <td>281618</td>\n",
       "      <td>2111986</td>\n",
       "    </tr>\n",
       "  </tbody>\n",
       "</table>\n",
       "</div>"
      ],
      "text/plain": [
       "         regiao  qtd_ben_bas  qtd_ben_var  qtd_ben_bvj  qtd_ben_bvn  \\\n",
       "0       SUDESTE     36285189     56973560      6898613      1003996   \n",
       "1         NORTE     19260878     33828016      4739201       546008   \n",
       "2      NORDESTE     79910997     99653870     14821469      2086658   \n",
       "3           SUL      7759013     14210385      1584699       274604   \n",
       "4  CENTRO-OESTE      5931917     12132915      1383418       223401   \n",
       "\n",
       "   qtd_ben_bvg  qtd_ben_bsp  \n",
       "0      1403667     19164570  \n",
       "1       849410      9364649  \n",
       "2      2794074     40880587  \n",
       "3       366083      3771047  \n",
       "4       281618      2111986  "
      ]
     },
     "execution_count": 33,
     "metadata": {},
     "output_type": "execute_result"
    }
   ],
   "source": [
    "# Realizando o somatário de cada benefício por região \n",
    "# E atribuindo ao um novo DataFrame \n",
    "df_2019_aux = df_2019_sudeste.groupby(\"regiao\").sum()\n",
    "df_2019_regiao = df_2019_aux.append([df_2019_norte.groupby(\"regiao\").sum(),\n",
    "                 df_2019_nordeste.groupby(\"regiao\").sum(),df_2019_sul.groupby(\"regiao\").sum(),\n",
    "                                     df_2019_centro_oeste.groupby(\"regiao\").sum()])\n",
    "#Criando índice ao novo DataFrame\n",
    "df_2019_regiao.reset_index(level=0, inplace=True)\n",
    "df_2019_regiao\n"
   ]
  },
  {
   "cell_type": "markdown",
   "metadata": {},
   "source": [
    "# Gráfico de Distribuição de QTD_BEN_BAS por Região - 2019"
   ]
  },
  {
   "cell_type": "code",
   "execution_count": 34,
   "metadata": {},
   "outputs": [
    {
     "data": {
      "text/plain": [
       "<matplotlib.axes._subplots.AxesSubplot at 0x152cdd6a4c0>"
      ]
     },
     "execution_count": 34,
     "metadata": {},
     "output_type": "execute_result"
    },
    {
     "data": {
      "image/png": "[encoded data removed]",
      "text/plain": [
       "<Figure size 432x288 with 1 Axes>"
      ]
     },
     "metadata": {
      "needs_background": "light"
     },
     "output_type": "display_data"
    }
   ],
   "source": [
    "sns.barplot( y = \"qtd_ben_bas\", x = \"regiao\", data = df_2019_regiao)"
   ]
  },
  {
   "cell_type": "markdown",
   "metadata": {},
   "source": [
    "# Gráfico de Distribuição de QTD_BEN_VAR por Região - 2019"
   ]
  },
  {
   "cell_type": "code",
   "execution_count": 35,
   "metadata": {},
   "outputs": [
    {
     "data": {
      "text/plain": [
       "<matplotlib.axes._subplots.AxesSubplot at 0x152d1b6b8b0>"
      ]
     },
     "execution_count": 35,
     "metadata": {},
     "output_type": "execute_result"
    },
    {
     "data": {
      "image/png": "[encoded data removed]",
      "text/plain": [
       "<Figure size 432x288 with 1 Axes>"
      ]
     },
     "metadata": {
      "needs_background": "light"
     },
     "output_type": "display_data"
    }
   ],
   "source": [
    "sns.barplot( y = \"qtd_ben_var\", x = \"regiao\", data = df_2019_regiao)"
   ]
  },
  {
   "cell_type": "markdown",
   "metadata": {},
   "source": [
    "# Gráfico de Distribuição de QTD_BEN_BVJ por Região - 2019"
   ]
  },
  {
   "cell_type": "code",
   "execution_count": 36,
   "metadata": {},
   "outputs": [
    {
     "data": {
      "text/plain": [
       "<matplotlib.axes._subplots.AxesSubplot at 0x152d340b6a0>"
      ]
     },
     "execution_count": 36,
     "metadata": {},
     "output_type": "execute_result"
    },
    {
     "data": {
      "image/png": "[encoded data removed]",
      "text/plain": [
       "<Figure size 432x288 with 1 Axes>"
      ]
     },
     "metadata": {
      "needs_background": "light"
     },
     "output_type": "display_data"
    }
   ],
   "source": [
    "sns.barplot( y = \"qtd_ben_bvj\", x = \"regiao\", data = df_2019_regiao)"
   ]
  },
  {
   "cell_type": "markdown",
   "metadata": {},
   "source": [
    "# Gráfico de Distribuição de QTD_BEN_BVN por Região - 2019"
   ]
  },
  {
   "cell_type": "code",
   "execution_count": 37,
   "metadata": {},
   "outputs": [
    {
     "data": {
      "text/plain": [
       "<matplotlib.axes._subplots.AxesSubplot at 0x152cde69220>"
      ]
     },
     "execution_count": 37,
     "metadata": {},
     "output_type": "execute_result"
    },
    {
     "data": {
      "image/png": "[encoded data removed]",
      "text/plain": [
       "<Figure size 432x288 with 1 Axes>"
      ]
     },
     "metadata": {
      "needs_background": "light"
     },
     "output_type": "display_data"
    }
   ],
   "source": [
    "sns.barplot( y = \"qtd_ben_bvn\", x = \"regiao\", data = df_2019_regiao)"
   ]
  },
  {
   "cell_type": "markdown",
   "metadata": {},
   "source": [
    "# Gráfico de Distribuição de QTD_BEN_BVG por Região - 2019"
   ]
  },
  {
   "cell_type": "code",
   "execution_count": 38,
   "metadata": {},
   "outputs": [
    {
     "data": {
      "text/plain": [
       "<matplotlib.axes._subplots.AxesSubplot at 0x152d34ad3a0>"
      ]
     },
     "execution_count": 38,
     "metadata": {},
     "output_type": "execute_result"
    },
    {
     "data": {
      "image/png": "[encoded data removed]",
      "text/plain": [
       "<Figure size 432x288 with 1 Axes>"
      ]
     },
     "metadata": {
      "needs_background": "light"
     },
     "output_type": "display_data"
    }
   ],
   "source": [
    "sns.barplot( y = \"qtd_ben_bvg\", x = \"regiao\", data = df_2019_regiao)"
   ]
  },
  {
   "cell_type": "markdown",
   "metadata": {},
   "source": [
    "# Gráfico de Distribuição de QTD_BEN_BSP por Região - 2019"
   ]
  },
  {
   "cell_type": "code",
   "execution_count": 39,
   "metadata": {},
   "outputs": [
    {
     "data": {
      "text/plain": [
       "<matplotlib.axes._subplots.AxesSubplot at 0x152d351dca0>"
      ]
     },
     "execution_count": 39,
     "metadata": {},
     "output_type": "execute_result"
    },
    {
     "data": {
      "image/png": "[encoded data removed]",
      "text/plain": [
       "<Figure size 432x288 with 1 Axes>"
      ]
     },
     "metadata": {
      "needs_background": "light"
     },
     "output_type": "display_data"
    }
   ],
   "source": [
    "sns.barplot( y = \"qtd_ben_bsp\", x = \"regiao\", data = df_2019_regiao)"
   ]
  },
  {
   "cell_type": "markdown",
   "metadata": {},
   "source": [
    "# Observando Dados por Ano"
   ]
  },
  {
   "cell_type": "code",
   "execution_count": 40,
   "metadata": {},
   "outputs": [
    {
     "data": {
      "text/html": [
       "<div>\n",
       "<style scoped>\n",
       "    .dataframe tbody tr th:only-of-type {\n",
       "        vertical-align: middle;\n",
       "    }\n",
       "\n",
       "    .dataframe tbody tr th {\n",
       "        vertical-align: top;\n",
       "    }\n",
       "\n",
       "    .dataframe thead th {\n",
       "        text-align: right;\n",
       "    }\n",
       "</style>\n",
       "<table border=\"1\" class=\"dataframe\">\n",
       "  <thead>\n",
       "    <tr style=\"text-align: right;\">\n",
       "      <th></th>\n",
       "      <th>ano</th>\n",
       "      <th>qtd_ben_bas</th>\n",
       "      <th>qtd_ben_var</th>\n",
       "      <th>qtd_ben_bvj</th>\n",
       "      <th>qtd_ben_bvn</th>\n",
       "      <th>qtd_ben_bvg</th>\n",
       "      <th>qtd_ben_bsp</th>\n",
       "    </tr>\n",
       "  </thead>\n",
       "  <tbody>\n",
       "    <tr>\n",
       "      <th>0</th>\n",
       "      <td>2014</td>\n",
       "      <td>155447127</td>\n",
       "      <td>254748195</td>\n",
       "      <td>36322786</td>\n",
       "      <td>3067510</td>\n",
       "      <td>2601500</td>\n",
       "      <td>62515793</td>\n",
       "    </tr>\n",
       "    <tr>\n",
       "      <th>1</th>\n",
       "      <td>2015</td>\n",
       "      <td>152018466</td>\n",
       "      <td>245113190</td>\n",
       "      <td>37371651</td>\n",
       "      <td>2955306</td>\n",
       "      <td>3385546</td>\n",
       "      <td>61984400</td>\n",
       "    </tr>\n",
       "    <tr>\n",
       "      <th>2</th>\n",
       "      <td>2016</td>\n",
       "      <td>145792924</td>\n",
       "      <td>241616212</td>\n",
       "      <td>35875723</td>\n",
       "      <td>3615809</td>\n",
       "      <td>3755630</td>\n",
       "      <td>64064134</td>\n",
       "    </tr>\n",
       "    <tr>\n",
       "      <th>3</th>\n",
       "      <td>2017</td>\n",
       "      <td>66232844</td>\n",
       "      <td>103001097</td>\n",
       "      <td>15572284</td>\n",
       "      <td>1574142</td>\n",
       "      <td>2185883</td>\n",
       "      <td>33679136</td>\n",
       "    </tr>\n",
       "    <tr>\n",
       "      <th>4</th>\n",
       "      <td>2018</td>\n",
       "      <td>148152586</td>\n",
       "      <td>226261973</td>\n",
       "      <td>31866295</td>\n",
       "      <td>4401424</td>\n",
       "      <td>4861686</td>\n",
       "      <td>72441990</td>\n",
       "    </tr>\n",
       "    <tr>\n",
       "      <th>5</th>\n",
       "      <td>2019</td>\n",
       "      <td>149147994</td>\n",
       "      <td>216798746</td>\n",
       "      <td>29427400</td>\n",
       "      <td>4134667</td>\n",
       "      <td>5694852</td>\n",
       "      <td>75292839</td>\n",
       "    </tr>\n",
       "  </tbody>\n",
       "</table>\n",
       "</div>"
      ],
      "text/plain": [
       "    ano  qtd_ben_bas  qtd_ben_var  qtd_ben_bvj  qtd_ben_bvn  qtd_ben_bvg  \\\n",
       "0  2014    155447127    254748195     36322786      3067510      2601500   \n",
       "1  2015    152018466    245113190     37371651      2955306      3385546   \n",
       "2  2016    145792924    241616212     35875723      3615809      3755630   \n",
       "3  2017     66232844    103001097     15572284      1574142      2185883   \n",
       "4  2018    148152586    226261973     31866295      4401424      4861686   \n",
       "5  2019    149147994    216798746     29427400      4134667      5694852   \n",
       "\n",
       "   qtd_ben_bsp  \n",
       "0     62515793  \n",
       "1     61984400  \n",
       "2     64064134  \n",
       "3     33679136  \n",
       "4     72441990  \n",
       "5     75292839  "
      ]
     },
     "execution_count": 40,
     "metadata": {},
     "output_type": "execute_result"
    }
   ],
   "source": [
    "# Realizando o somatário de cada benefício por ano\n",
    "# E atribuindo a um novo DataFrame\n",
    "df_aux = df_2019.groupby(\"ano\").sum()\n",
    "df_anos = df_aux.append([df_2018.groupby(\"ano\").sum(),df_2017.groupby(\"ano\").sum(),\n",
    "                 df_2016.groupby(\"ano\").sum(),df_2015.groupby(\"ano\").sum(),\n",
    "                           df_2014.groupby(\"ano\").sum()]).copy()\n",
    "#Ordenando por Ano\n",
    "df_anos.sort_values([\"ano\"], inplace = True)\n",
    "#Criando índice para o Novo DataFrame\n",
    "df_anos.reset_index(level=0, inplace=True)\n",
    "\n",
    "df_anos"
   ]
  },
  {
   "cell_type": "markdown",
   "metadata": {},
   "source": [
    "# Gerando Gráfico QTD_BEN_BAS por Ano"
   ]
  },
  {
   "cell_type": "code",
   "execution_count": 41,
   "metadata": {},
   "outputs": [
    {
     "data": {
      "image/png": "[encoded data removed]",
      "text/plain": [
       "<Figure size 432x288 with 1 Axes>"
      ]
     },
     "metadata": {
      "needs_background": "light"
     },
     "output_type": "display_data"
    }
   ],
   "source": [
    "# Atribuindo uma lista com os valores da Coluna qtd_ben_bas a Variável Y\n",
    "y = df_anos['qtd_ben_bas'].values.tolist()\n",
    "# Atribuindo uma lista com os valores da Coluna qtd_ben_bas a Variável X\n",
    "x = df_anos['ano'].values.tolist()\n",
    "\n",
    "# Gerando valores aleatórios \n",
    "colors = np.random.rand(len(x))\n",
    "# Tamanho dos pontos no gráfico\n",
    "area = (250)\n",
    "# Define os pontos no gráfico de acordo com as coodenadas X e Y \n",
    "plt.scatter(x, y, s=area, c=colors)\n",
    "# Título da gráfico\n",
    "plt.title(\"Benefício Gestante\")\n",
    "# Nome eixo X\n",
    "plt.xlabel(\"ANO\")\n",
    "#Nome eixo Y\n",
    "plt.ylabel(\"Quantidade\")\n",
    "# Criando o gráfico \n",
    "plt.plot(x,y)\n",
    "# Gerando uma grid\n",
    "plt.grid()\n",
    "#Desenha o gráfico\n",
    "plt.show()"
   ]
  },
  {
   "cell_type": "markdown",
   "metadata": {},
   "source": [
    "# Gerando Gráfico QTD_BEN_VAR por Ano"
   ]
  },
  {
   "cell_type": "code",
   "execution_count": 42,
   "metadata": {},
   "outputs": [
    {
     "data": {
      "image/png": "[encoded data removed]",
      "text/plain": [
       "<Figure size 432x288 with 1 Axes>"
      ]
     },
     "metadata": {
      "needs_background": "light"
     },
     "output_type": "display_data"
    }
   ],
   "source": [
    "y = df_anos['qtd_ben_var'].values.tolist()\n",
    "x = df_anos['ano'].values.tolist()\n",
    "\n",
    "colors = np.random.rand(len(x))\n",
    "area = (250)\n",
    "plt.scatter(x, y, s=area, c=colors)\n",
    "plt.title(\"Benefícios Variáveis\")\n",
    "plt.xlabel(\"ANO\")\n",
    "plt.ylabel(\"Quantidade\")\n",
    "plt.plot(x,y)\n",
    "plt.grid()\n",
    "plt.show()"
   ]
  },
  {
   "cell_type": "markdown",
   "metadata": {},
   "source": [
    "# Gerando Gráfico QTD_BEN_BVJ por Ano"
   ]
  },
  {
   "cell_type": "code",
   "execution_count": 43,
   "metadata": {},
   "outputs": [
    {
     "data": {
      "image/png": "[encoded data removed]",
      "text/plain": [
       "<Figure size 432x288 with 1 Axes>"
      ]
     },
     "metadata": {
      "needs_background": "light"
     },
     "output_type": "display_data"
    }
   ],
   "source": [
    "y = df_anos['qtd_ben_bvj'].values.tolist()\n",
    "x = df_anos['ano'].values.tolist()\n",
    "\n",
    "colors = np.random.rand(len(x))\n",
    "area = (250)\n",
    "\n",
    "plt.scatter(x, y, s=area, c=colors)\n",
    "plt.title(\"Benefícios Jovem\")\n",
    "plt.xlabel(\"ANO\")\n",
    "plt.ylabel(\"Quantidade\")\n",
    "plt.plot(x,y)\n",
    "plt.grid()\n",
    "plt.show()"
   ]
  },
  {
   "cell_type": "markdown",
   "metadata": {},
   "source": [
    "# Gerando Gráfico QTD_BEN_BVN por Ano"
   ]
  },
  {
   "cell_type": "code",
   "execution_count": 44,
   "metadata": {},
   "outputs": [
    {
     "data": {
      "image/png": "[encoded data removed]",
      "text/plain": [
       "<Figure size 432x288 with 1 Axes>"
      ]
     },
     "metadata": {
      "needs_background": "light"
     },
     "output_type": "display_data"
    }
   ],
   "source": [
    "y = df_anos['qtd_ben_bvn'].values.tolist()\n",
    "x = df_anos['ano'].values.tolist()\n",
    "\n",
    "colors = np.random.rand(len(x))\n",
    "area = (250)\n",
    "plt.scatter(x, y, s=area, c=colors)\n",
    "plt.title(\"Benefícios Nutriz\")\n",
    "plt.xlabel(\"ANO\")\n",
    "plt.ylabel(\"Quantidade\")\n",
    "plt.plot(x,y)\n",
    "plt.grid()\n",
    "plt.show()"
   ]
  },
  {
   "cell_type": "markdown",
   "metadata": {},
   "source": [
    "# Gerando Gráfico QTD_BEN_BVG por Ano"
   ]
  },
  {
   "cell_type": "code",
   "execution_count": 45,
   "metadata": {},
   "outputs": [
    {
     "data": {
      "image/png": "[encoded data removed]",
      "text/plain": [
       "<Figure size 432x288 with 1 Axes>"
      ]
     },
     "metadata": {
      "needs_background": "light"
     },
     "output_type": "display_data"
    }
   ],
   "source": [
    "y = df_anos['qtd_ben_bvg'].values.tolist()\n",
    "x = df_anos['ano'].values.tolist()\n",
    "\n",
    "colors = np.random.rand(len(x))\n",
    "area = (250)\n",
    "plt.scatter(x, y, s=area, c=colors)\n",
    "plt.title(\"Benefícios Gestante\")\n",
    "plt.xlabel(\"ANO\")\n",
    "plt.ylabel(\"Quantidade\")\n",
    "plt.plot(x,y)\n",
    "plt.grid()\n",
    "plt.show()"
   ]
  },
  {
   "cell_type": "markdown",
   "metadata": {},
   "source": [
    "# Gerando Gráfico QTD_BEN_BSP por Ano"
   ]
  },
  {
   "cell_type": "code",
   "execution_count": 47,
   "metadata": {},
   "outputs": [
    {
     "data": {
      "image/png": "[encoded data removed]",
      "text/plain": [
       "<Figure size 432x288 with 1 Axes>"
      ]
     },
     "metadata": {
      "needs_background": "light"
     },
     "output_type": "display_data"
    }
   ],
   "source": [
    "y = df_anos['qtd_ben_bsp'].values.tolist()\n",
    "x = df_anos['ano'].values.tolist()\n",
    "\n",
    "colors = np.random.rand(len(x))\n",
    "area = (250)\n",
    "plt.scatter(x, y, s=area, c=colors)\n",
    "plt.title(\"Benefícios Superação Extrema Pobreza\")\n",
    "plt.xlabel(\"ANO\")\n",
    "plt.ylabel(\"Quantidade\")\n",
    "plt.plot(x,y)\n",
    "plt.grid()\n",
    "plt.show()"
   ]
  },
  {
   "cell_type": "code",
   "execution_count": 48,
   "metadata": {},
   "outputs": [
    {
     "name": "stdout",
     "output_type": "stream",
     "text": [
      "<class 'pandas.core.frame.DataFrame'>\n",
      "RangeIndex: 66840 entries, 0 to 66839\n",
      "Data columns (total 10 columns):\n",
      " #   Column       Non-Null Count  Dtype \n",
      "---  ------       --------------  ----- \n",
      " 0   ibge         66840 non-null  object\n",
      " 1   siglauf      66840 non-null  object\n",
      " 2   anomes       66840 non-null  object\n",
      " 3   qtd_ben_bas  66840 non-null  int64 \n",
      " 4   qtd_ben_var  66840 non-null  int64 \n",
      " 5   qtd_ben_bvj  66840 non-null  int64 \n",
      " 6   qtd_ben_bvn  66840 non-null  int64 \n",
      " 7   qtd_ben_bvg  66840 non-null  int64 \n",
      " 8   qtd_ben_bsp  66840 non-null  int64 \n",
      " 9   ano          66840 non-null  object\n",
      "dtypes: int64(6), object(4)\n",
      "memory usage: 5.1+ MB\n"
     ]
    }
   ],
   "source": [
    "df_2019.info()"
   ]
  }
 ],
 "metadata": {
  "kernelspec": {
   "display_name": "Python 3",
   "language": "python",
   "name": "python3"
  },
  "language_info": {
   "codemirror_mode": {
    "name": "ipython",
    "version": 3
   },
   "file_extension": ".py",
   "mimetype": "text/x-python",
   "name": "python",
   "nbconvert_exporter": "python",
   "pygments_lexer": "ipython3",
   "version": "3.8.3"
  }
 },
 "nbformat": 4,
 "nbformat_minor": 4
}
